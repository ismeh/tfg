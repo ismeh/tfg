{
 "cells": [
  {
   "cell_type": "markdown",
   "id": "b378a441",
   "metadata": {
    "id": "8d8e16a2-0224-43fd-a3bb-ee68551cb1cf"
   },
   "source": [
    "# Predicción de decisiones"
   ]
  },
  {
   "cell_type": "markdown",
   "id": "4c5a5de2-7f42-458c-a916-f121a2a3349a",
   "metadata": {
    "id": "4c5a5de2-7f42-458c-a916-f121a2a3349a"
   },
   "source": [
    "Para ver el resumen del cuadernillo empezar por el final. \\\n",
    "Puedes ver el proceso de desarrollo y la toma de decisiones a lo largo de todo el cuadernillo."
   ]
  },
  {
   "cell_type": "code",
   "execution_count": 2,
   "id": "initial_id",
   "metadata": {
    "ExecuteTime": {
     "end_time": "2024-10-07T10:38:41.167643100Z",
     "start_time": "2024-10-07T10:38:40.845959100Z"
    },
    "colab": {
     "base_uri": "https://localhost:8080/"
    },
    "id": "initial_id",
    "outputId": "9914bba9-e08f-49dd-ab0d-bac5280c1eee"
   },
   "outputs": [],
   "source": [
    "# Import necessary libraries\n",
    "import numpy as np\n",
    "import pandas as pd\n",
    "import matplotlib.pyplot as plt\n",
    "import seaborn as sns\n",
    "import os\n",
    "import matplotlib.dates as mdates\n",
    "\n",
    "# MNE for EEG processing\n",
    "# import mne\n",
    "\n",
    "# Scikit-learn for machine learning\n",
    "from sklearn.model_selection import train_test_split, cross_val_score, StratifiedKFold\n",
    "from sklearn.preprocessing import StandardScaler\n",
    "from sklearn.decomposition import PCA\n",
    "from sklearn.pipeline import Pipeline\n",
    "from sklearn.svm import SVC\n",
    "from sklearn.ensemble import RandomForestClassifier\n",
    "from sklearn.metrics import accuracy_score, classification_report, confusion_matrix\n",
    "\n",
    "from IPython.display import Image\n",
    "from IPython.core.display import HTML\n",
    "import matplotlib.pyplot as plt\n",
    "import scipy.fft\n",
    "from tsfresh import extract_features\n",
    "from tsfresh import select_features\n",
    "from tsfresh import select_features\n",
    "from tsfresh.utilities.dataframe_functions import impute"
   ]
  },
  {
   "cell_type": "code",
   "execution_count": 3,
   "id": "E0gGeWMY-zlB",
   "metadata": {
    "ExecuteTime": {
     "end_time": "2024-10-07T10:38:41.491126200Z",
     "start_time": "2024-10-07T10:38:40.863956Z"
    },
    "colab": {
     "base_uri": "https://localhost:8080/"
    },
    "id": "E0gGeWMY-zlB",
    "outputId": "3a21be03-4781-4e91-a0a6-ceeb7cf2048d"
   },
   "outputs": [],
   "source": [
    "import procesamiento_datos as prd\n",
    "import constantes"
   ]
  },
  {
   "cell_type": "code",
   "execution_count": 4,
   "id": "d6f83823d62d9988",
   "metadata": {
    "ExecuteTime": {
     "end_time": "2024-10-07T10:38:41.523294900Z",
     "start_time": "2024-10-07T10:38:40.877952400Z"
    },
    "id": "d6f83823d62d9988"
   },
   "outputs": [],
   "source": [
    "# Set a random seed for reproducibility\n",
    "random_seed = 25\n",
    "np.random.seed(random_seed)\n",
    "TASA_MUESTREO = 256 #Hz"
   ]
  },
  {
   "cell_type": "markdown",
   "id": "18938756",
   "metadata": {
    "id": "18938756"
   },
   "source": [
    "## Cargamos los datos"
   ]
  },
  {
   "cell_type": "code",
   "execution_count": 5,
   "id": "tFtCq_JK2KNG",
   "metadata": {
    "ExecuteTime": {
     "end_time": "2024-10-07T10:38:41.555144800Z",
     "start_time": "2024-10-07T10:38:40.890959700Z"
    },
    "id": "tFtCq_JK2KNG"
   },
   "outputs": [],
   "source": [
    "#Drive\n",
    "# #Colab install libraries\n",
    "# !pip install tsfresh\n",
    "\n",
    "# from google.colab import drive\n",
    "# drive.mount('/content/drive')\n",
    "\n",
    "# import sys\n",
    "# sys.path.append('/content/drive/MyDrive/tfg/codigo')\n",
    "\n",
    "# #!python--version\n",
    "# #!ls /content/drive/MyDrive/tfg/codigo\n",
    "\n",
    "\n",
    "# ruta_datos = '/content/drive/My Drive/tfg/datos/Local'\n",
    "# os.chdir(ruta_datos)\n",
    "# archivos_local = os.listdir()\n",
    "# archivos_local.sort()\n",
    "# all_local_data = prd.juntar_datos(\".\")\n",
    "# single_local_data = prd.leer_datos(archivos_local[0])\n",
    "\n",
    "# os.chdir(\"../\" + constantes.DATA_DIR + constantes.MUSE_DATA)\n",
    "# archivos_muse = os.listdir()\n",
    "# archivos_muse.sort()\n",
    "# single_muse_data = prd.leer_datos(archivos_muse[0])"
   ]
  },
  {
   "cell_type": "code",
   "execution_count": 6,
   "id": "DyYpr5kQDMkt",
   "metadata": {
    "ExecuteTime": {
     "end_time": "2024-10-07T10:39:49.721180200Z",
     "start_time": "2024-10-07T10:39:49.705171800Z"
    },
    "colab": {
     "base_uri": "https://localhost:8080/"
    },
    "id": "DyYpr5kQDMkt",
    "outputId": "5a97991b-fdc0-4d1a-a353-628eadb53eaa"
   },
   "outputs": [
    {
     "name": "stdout",
     "output_type": "stream",
     "text": [
      "C:\\Users\\Ismael\\Desktop\\Informatica\\1Universidad\\4ano\\tfg\\codigo\n"
     ]
    }
   ],
   "source": [
    "# print(archivos_local)\n",
    "# print(archivos_muse)\n",
    "print(os.getcwd())"
   ]
  },
  {
   "cell_type": "code",
   "execution_count": 7,
   "id": "a90227c281f818a8",
   "metadata": {
    "ExecuteTime": {
     "end_time": "2024-10-07T10:38:41.635776200Z",
     "start_time": "2024-10-07T10:38:40.925960300Z"
    },
    "id": "a90227c281f818a8"
   },
   "outputs": [],
   "source": [
    "#Local\n",
    "ruta_datos = constantes.DATA_DIR + constantes.LOCAL_DATA\n",
    "os.chdir(ruta_datos)\n",
    "archivos_local = os.listdir()\n",
    "all_local_data = prd.juntar_datos(\".\")\n",
    "single_local_data = prd.leer_datos(archivos_local[0])\n",
    "\n",
    "os.chdir(\"../\" + constantes.DATA_DIR + constantes.MUSE_DATA)\n",
    "archivos_muse = os.listdir()\n",
    "single_muse_data = prd.leer_datos(archivos_muse[0])\n"
   ]
  },
  {
   "cell_type": "code",
   "execution_count": 8,
   "id": "710e5356",
   "metadata": {
    "ExecuteTime": {
     "start_time": "2024-10-07T10:38:40.953955100Z"
    },
    "colab": {
     "base_uri": "https://localhost:8080/",
     "height": 345
    },
    "id": "710e5356",
    "outputId": "caf9afd4-50d2-4b77-e97e-5b32d8eee061"
   },
   "outputs": [
    {
     "data": {
      "text/html": [
       "<div>\n",
       "<style scoped>\n",
       "    .dataframe tbody tr th:only-of-type {\n",
       "        vertical-align: middle;\n",
       "    }\n",
       "\n",
       "    .dataframe tbody tr th {\n",
       "        vertical-align: top;\n",
       "    }\n",
       "\n",
       "    .dataframe thead th {\n",
       "        text-align: right;\n",
       "    }\n",
       "</style>\n",
       "<table border=\"1\" class=\"dataframe\">\n",
       "  <thead>\n",
       "    <tr style=\"text-align: right;\">\n",
       "      <th></th>\n",
       "      <th>ID del participante</th>\n",
       "      <th>Trial</th>\n",
       "      <th>Respuesta</th>\n",
       "      <th>Tiempo de inicio</th>\n",
       "      <th>Tiempo de aparición de letras</th>\n",
       "      <th>Tiempo de la pulsación</th>\n",
       "      <th>Tecla elegida</th>\n",
       "      <th>Tiempo de aparición de la letra observada</th>\n",
       "      <th>Letra observada</th>\n",
       "    </tr>\n",
       "  </thead>\n",
       "  <tbody>\n",
       "    <tr>\n",
       "      <th>0</th>\n",
       "      <td>0</td>\n",
       "      <td>0</td>\n",
       "      <td>0</td>\n",
       "      <td>2023-5-1 18:0:47.926</td>\n",
       "      <td>2023-5-1 18:0:52.933</td>\n",
       "      <td>2023-5-1 18:0:57.826</td>\n",
       "      <td>q</td>\n",
       "      <td>2023-5-1 18:0:57.429</td>\n",
       "      <td>n</td>\n",
       "    </tr>\n",
       "    <tr>\n",
       "      <th>1</th>\n",
       "      <td>0</td>\n",
       "      <td>0</td>\n",
       "      <td>1</td>\n",
       "      <td>2023-5-1 18:0:58.425</td>\n",
       "      <td>2023-5-1 18:1:0.429</td>\n",
       "      <td>2023-5-1 18:1:5.283</td>\n",
       "      <td>p</td>\n",
       "      <td>2023-5-1 18:1:4.925</td>\n",
       "      <td>s</td>\n",
       "    </tr>\n",
       "    <tr>\n",
       "      <th>2</th>\n",
       "      <td>0</td>\n",
       "      <td>0</td>\n",
       "      <td>2</td>\n",
       "      <td>2023-5-1 18:1:5.871</td>\n",
       "      <td>2023-5-1 18:1:7.877</td>\n",
       "      <td>2023-5-1 18:1:13.167</td>\n",
       "      <td>p</td>\n",
       "      <td>2023-5-1 18:1:12.877</td>\n",
       "      <td>d</td>\n",
       "    </tr>\n",
       "    <tr>\n",
       "      <th>3</th>\n",
       "      <td>0</td>\n",
       "      <td>0</td>\n",
       "      <td>3</td>\n",
       "      <td>2023-5-1 18:1:13.731</td>\n",
       "      <td>2023-5-1 18:1:15.733</td>\n",
       "      <td>2023-5-1 18:1:21.340</td>\n",
       "      <td>p</td>\n",
       "      <td>2023-5-1 18:1:20.733</td>\n",
       "      <td>c</td>\n",
       "    </tr>\n",
       "    <tr>\n",
       "      <th>4</th>\n",
       "      <td>0</td>\n",
       "      <td>0</td>\n",
       "      <td>4</td>\n",
       "      <td>2023-5-1 18:1:22.253</td>\n",
       "      <td>2023-5-1 18:1:24.261</td>\n",
       "      <td>2023-5-1 18:1:29.213</td>\n",
       "      <td>q</td>\n",
       "      <td>2023-5-1 18:1:28.757</td>\n",
       "      <td>m</td>\n",
       "    </tr>\n",
       "  </tbody>\n",
       "</table>\n",
       "</div>"
      ],
      "text/plain": [
       "   ID del participante  Trial  Respuesta      Tiempo de inicio  \\\n",
       "0                    0      0          0  2023-5-1 18:0:47.926   \n",
       "1                    0      0          1  2023-5-1 18:0:58.425   \n",
       "2                    0      0          2   2023-5-1 18:1:5.871   \n",
       "3                    0      0          3  2023-5-1 18:1:13.731   \n",
       "4                    0      0          4  2023-5-1 18:1:22.253   \n",
       "\n",
       "  Tiempo de aparición de letras Tiempo de la pulsación Tecla elegida  \\\n",
       "0          2023-5-1 18:0:52.933   2023-5-1 18:0:57.826             q   \n",
       "1           2023-5-1 18:1:0.429    2023-5-1 18:1:5.283             p   \n",
       "2           2023-5-1 18:1:7.877   2023-5-1 18:1:13.167             p   \n",
       "3          2023-5-1 18:1:15.733   2023-5-1 18:1:21.340             p   \n",
       "4          2023-5-1 18:1:24.261   2023-5-1 18:1:29.213             q   \n",
       "\n",
       "  Tiempo de aparición de la letra observada Letra observada  \n",
       "0                      2023-5-1 18:0:57.429               n  \n",
       "1                       2023-5-1 18:1:4.925               s  \n",
       "2                      2023-5-1 18:1:12.877               d  \n",
       "3                      2023-5-1 18:1:20.733               c  \n",
       "4                      2023-5-1 18:1:28.757               m  "
      ]
     },
     "execution_count": 8,
     "metadata": {},
     "output_type": "execute_result"
    }
   ],
   "source": [
    "all_local_data.head()"
   ]
  },
  {
   "cell_type": "code",
   "execution_count": 9,
   "id": "88fb57c9-853e-4c9a-9385-ea56b29aa581",
   "metadata": {
    "ExecuteTime": {
     "start_time": "2024-10-07T10:38:40.956957800Z"
    },
    "colab": {
     "base_uri": "https://localhost:8080/",
     "height": 300
    },
    "id": "88fb57c9-853e-4c9a-9385-ea56b29aa581",
    "outputId": "851b5246-8350-42e3-f8eb-ae3a781a20ef"
   },
   "outputs": [
    {
     "data": {
      "text/html": [
       "<div>\n",
       "<style scoped>\n",
       "    .dataframe tbody tr th:only-of-type {\n",
       "        vertical-align: middle;\n",
       "    }\n",
       "\n",
       "    .dataframe tbody tr th {\n",
       "        vertical-align: top;\n",
       "    }\n",
       "\n",
       "    .dataframe thead th {\n",
       "        text-align: right;\n",
       "    }\n",
       "</style>\n",
       "<table border=\"1\" class=\"dataframe\">\n",
       "  <thead>\n",
       "    <tr style=\"text-align: right;\">\n",
       "      <th></th>\n",
       "      <th>ID del participante</th>\n",
       "      <th>Trial</th>\n",
       "      <th>Respuesta</th>\n",
       "    </tr>\n",
       "  </thead>\n",
       "  <tbody>\n",
       "    <tr>\n",
       "      <th>count</th>\n",
       "      <td>2579.000000</td>\n",
       "      <td>2579.000000</td>\n",
       "      <td>2579.000000</td>\n",
       "    </tr>\n",
       "    <tr>\n",
       "      <th>mean</th>\n",
       "      <td>9.346646</td>\n",
       "      <td>4.618457</td>\n",
       "      <td>7.528887</td>\n",
       "    </tr>\n",
       "    <tr>\n",
       "      <th>std</th>\n",
       "      <td>5.790032</td>\n",
       "      <td>2.946942</td>\n",
       "      <td>5.510150</td>\n",
       "    </tr>\n",
       "    <tr>\n",
       "      <th>min</th>\n",
       "      <td>0.000000</td>\n",
       "      <td>0.000000</td>\n",
       "      <td>0.000000</td>\n",
       "    </tr>\n",
       "    <tr>\n",
       "      <th>25%</th>\n",
       "      <td>5.000000</td>\n",
       "      <td>2.000000</td>\n",
       "      <td>3.000000</td>\n",
       "    </tr>\n",
       "    <tr>\n",
       "      <th>50%</th>\n",
       "      <td>9.000000</td>\n",
       "      <td>5.000000</td>\n",
       "      <td>7.000000</td>\n",
       "    </tr>\n",
       "    <tr>\n",
       "      <th>75%</th>\n",
       "      <td>15.000000</td>\n",
       "      <td>7.000000</td>\n",
       "      <td>11.000000</td>\n",
       "    </tr>\n",
       "    <tr>\n",
       "      <th>max</th>\n",
       "      <td>19.000000</td>\n",
       "      <td>11.000000</td>\n",
       "      <td>30.000000</td>\n",
       "    </tr>\n",
       "  </tbody>\n",
       "</table>\n",
       "</div>"
      ],
      "text/plain": [
       "       ID del participante        Trial    Respuesta\n",
       "count          2579.000000  2579.000000  2579.000000\n",
       "mean              9.346646     4.618457     7.528887\n",
       "std               5.790032     2.946942     5.510150\n",
       "min               0.000000     0.000000     0.000000\n",
       "25%               5.000000     2.000000     3.000000\n",
       "50%               9.000000     5.000000     7.000000\n",
       "75%              15.000000     7.000000    11.000000\n",
       "max              19.000000    11.000000    30.000000"
      ]
     },
     "execution_count": 9,
     "metadata": {},
     "output_type": "execute_result"
    }
   ],
   "source": [
    "all_local_data.describe()"
   ]
  },
  {
   "cell_type": "markdown",
   "id": "b9425f47-e014-41fa-ae0d-3fdb47b94c88",
   "metadata": {
    "id": "b9425f47-e014-41fa-ae0d-3fdb47b94c88"
   },
   "source": [
    "A priori contamos con un total de 2579 respuestas."
   ]
  },
  {
   "cell_type": "code",
   "execution_count": 10,
   "id": "baf59f51-9072-49e2-9073-809583470d87",
   "metadata": {
    "ExecuteTime": {
     "start_time": "2024-10-07T10:38:40.959960500Z"
    },
    "colab": {
     "base_uri": "https://localhost:8080/",
     "height": 382
    },
    "id": "baf59f51-9072-49e2-9073-809583470d87",
    "outputId": "1467db18-b56a-427c-c257-791880449fa9"
   },
   "outputs": [
    {
     "data": {
      "text/html": [
       "<div>\n",
       "<style scoped>\n",
       "    .dataframe tbody tr th:only-of-type {\n",
       "        vertical-align: middle;\n",
       "    }\n",
       "\n",
       "    .dataframe tbody tr th {\n",
       "        vertical-align: top;\n",
       "    }\n",
       "\n",
       "    .dataframe thead th {\n",
       "        text-align: right;\n",
       "    }\n",
       "</style>\n",
       "<table border=\"1\" class=\"dataframe\">\n",
       "  <thead>\n",
       "    <tr style=\"text-align: right;\">\n",
       "      <th></th>\n",
       "      <th>ID del participante</th>\n",
       "      <th>Trial</th>\n",
       "      <th>Respuesta</th>\n",
       "      <th>Tiempo de inicio</th>\n",
       "      <th>Tiempo de aparición de letras</th>\n",
       "      <th>Tiempo de la pulsación</th>\n",
       "      <th>Tecla elegida</th>\n",
       "      <th>Tiempo de aparición de la letra observada</th>\n",
       "      <th>Letra observada</th>\n",
       "    </tr>\n",
       "  </thead>\n",
       "  <tbody>\n",
       "    <tr>\n",
       "      <th>159</th>\n",
       "      <td>0</td>\n",
       "      <td>9</td>\n",
       "      <td>13</td>\n",
       "      <td>2023-5-1 18:39:41.799</td>\n",
       "      <td>2023-5-1 18:39:43.805</td>\n",
       "      <td>2023-5-1 18:39:48.128</td>\n",
       "      <td>q</td>\n",
       "      <td>2023-5-1 18:39:47.805</td>\n",
       "      <td>d</td>\n",
       "    </tr>\n",
       "    <tr>\n",
       "      <th>160</th>\n",
       "      <td>0</td>\n",
       "      <td>9</td>\n",
       "      <td>14</td>\n",
       "      <td>2023-5-1 18:39:48.564</td>\n",
       "      <td>2023-5-1 18:39:50.573</td>\n",
       "      <td>2023-5-1 18:39:53.947</td>\n",
       "      <td>p</td>\n",
       "      <td>2023-5-1 18:39:53.573</td>\n",
       "      <td>n</td>\n",
       "    </tr>\n",
       "    <tr>\n",
       "      <th>161</th>\n",
       "      <td>0</td>\n",
       "      <td>9</td>\n",
       "      <td>15</td>\n",
       "      <td>2023-5-1 18:39:54.378</td>\n",
       "      <td>2023-5-1 18:39:56.381</td>\n",
       "      <td>2023-5-1 18:39:59.671</td>\n",
       "      <td>q</td>\n",
       "      <td>2023-5-1 18:39:59.381</td>\n",
       "      <td>n</td>\n",
       "    </tr>\n",
       "    <tr>\n",
       "      <th>162</th>\n",
       "      <td>0</td>\n",
       "      <td>9</td>\n",
       "      <td>16</td>\n",
       "      <td>2023-5-1 18:40:0.107</td>\n",
       "      <td>2023-5-1 18:40:2.109</td>\n",
       "      <td>2023-5-1 18:40:6.55</td>\n",
       "      <td>p</td>\n",
       "      <td>2023-5-1 18:40:5.613</td>\n",
       "      <td>c</td>\n",
       "    </tr>\n",
       "    <tr>\n",
       "      <th>163</th>\n",
       "      <td>0</td>\n",
       "      <td>9</td>\n",
       "      <td>17</td>\n",
       "      <td>2023-5-1 18:40:6.601</td>\n",
       "      <td>2023-5-1 18:40:8.605</td>\n",
       "      <td>2023-5-1 18:40:12.912</td>\n",
       "      <td>q</td>\n",
       "      <td>2023-5-1 18:40:12.605</td>\n",
       "      <td>m</td>\n",
       "    </tr>\n",
       "  </tbody>\n",
       "</table>\n",
       "</div>"
      ],
      "text/plain": [
       "     ID del participante  Trial  Respuesta       Tiempo de inicio  \\\n",
       "159                    0      9         13  2023-5-1 18:39:41.799   \n",
       "160                    0      9         14  2023-5-1 18:39:48.564   \n",
       "161                    0      9         15  2023-5-1 18:39:54.378   \n",
       "162                    0      9         16   2023-5-1 18:40:0.107   \n",
       "163                    0      9         17   2023-5-1 18:40:6.601   \n",
       "\n",
       "    Tiempo de aparición de letras Tiempo de la pulsación Tecla elegida  \\\n",
       "159         2023-5-1 18:39:43.805  2023-5-1 18:39:48.128             q   \n",
       "160         2023-5-1 18:39:50.573  2023-5-1 18:39:53.947             p   \n",
       "161         2023-5-1 18:39:56.381  2023-5-1 18:39:59.671             q   \n",
       "162          2023-5-1 18:40:2.109    2023-5-1 18:40:6.55             p   \n",
       "163          2023-5-1 18:40:8.605  2023-5-1 18:40:12.912             q   \n",
       "\n",
       "    Tiempo de aparición de la letra observada Letra observada  \n",
       "159                     2023-5-1 18:39:47.805               d  \n",
       "160                     2023-5-1 18:39:53.573               n  \n",
       "161                     2023-5-1 18:39:59.381               n  \n",
       "162                      2023-5-1 18:40:5.613               c  \n",
       "163                     2023-5-1 18:40:12.605               m  "
      ]
     },
     "execution_count": 10,
     "metadata": {},
     "output_type": "execute_result"
    }
   ],
   "source": [
    "single_local_data.tail()"
   ]
  },
  {
   "cell_type": "code",
   "execution_count": 11,
   "id": "8219f09deacf944f",
   "metadata": {
    "ExecuteTime": {
     "start_time": "2024-10-07T10:38:40.963956Z"
    },
    "colab": {
     "base_uri": "https://localhost:8080/",
     "height": 342
    },
    "id": "8219f09deacf944f",
    "outputId": "c38a81d1-8d99-44e7-9ac1-1bf10044dc79"
   },
   "outputs": [
    {
     "data": {
      "text/html": [
       "<div>\n",
       "<style scoped>\n",
       "    .dataframe tbody tr th:only-of-type {\n",
       "        vertical-align: middle;\n",
       "    }\n",
       "\n",
       "    .dataframe tbody tr th {\n",
       "        vertical-align: top;\n",
       "    }\n",
       "\n",
       "    .dataframe thead th {\n",
       "        text-align: right;\n",
       "    }\n",
       "</style>\n",
       "<table border=\"1\" class=\"dataframe\">\n",
       "  <thead>\n",
       "    <tr style=\"text-align: right;\">\n",
       "      <th></th>\n",
       "      <th>TimeStamp</th>\n",
       "      <th>Delta_TP9</th>\n",
       "      <th>Delta_AF7</th>\n",
       "      <th>Delta_AF8</th>\n",
       "      <th>Delta_TP10</th>\n",
       "      <th>Theta_TP9</th>\n",
       "      <th>Theta_AF7</th>\n",
       "      <th>Theta_AF8</th>\n",
       "      <th>Theta_TP10</th>\n",
       "      <th>Alpha_TP9</th>\n",
       "      <th>...</th>\n",
       "      <th>Gyro_X</th>\n",
       "      <th>Gyro_Y</th>\n",
       "      <th>Gyro_Z</th>\n",
       "      <th>HeadBandOn</th>\n",
       "      <th>HSI_TP9</th>\n",
       "      <th>HSI_AF7</th>\n",
       "      <th>HSI_AF8</th>\n",
       "      <th>HSI_TP10</th>\n",
       "      <th>Battery</th>\n",
       "      <th>Elements</th>\n",
       "    </tr>\n",
       "  </thead>\n",
       "  <tbody>\n",
       "    <tr>\n",
       "      <th>0</th>\n",
       "      <td>2023-05-01 18:00:43.602</td>\n",
       "      <td>0.0</td>\n",
       "      <td>0.0</td>\n",
       "      <td>0.885405</td>\n",
       "      <td>0.0</td>\n",
       "      <td>0.0</td>\n",
       "      <td>0.0</td>\n",
       "      <td>0.630772</td>\n",
       "      <td>0.0</td>\n",
       "      <td>0.0</td>\n",
       "      <td>...</td>\n",
       "      <td>5.121613</td>\n",
       "      <td>-0.575714</td>\n",
       "      <td>4.695435</td>\n",
       "      <td>1.0</td>\n",
       "      <td>2.0</td>\n",
       "      <td>1.0</td>\n",
       "      <td>1.0</td>\n",
       "      <td>4.0</td>\n",
       "      <td>65.0</td>\n",
       "      <td>NaN</td>\n",
       "    </tr>\n",
       "    <tr>\n",
       "      <th>1</th>\n",
       "      <td>2023-05-01 18:00:43.603</td>\n",
       "      <td>0.0</td>\n",
       "      <td>0.0</td>\n",
       "      <td>0.885405</td>\n",
       "      <td>0.0</td>\n",
       "      <td>0.0</td>\n",
       "      <td>0.0</td>\n",
       "      <td>0.630772</td>\n",
       "      <td>0.0</td>\n",
       "      <td>0.0</td>\n",
       "      <td>...</td>\n",
       "      <td>5.121613</td>\n",
       "      <td>-0.575714</td>\n",
       "      <td>4.695435</td>\n",
       "      <td>1.0</td>\n",
       "      <td>2.0</td>\n",
       "      <td>1.0</td>\n",
       "      <td>1.0</td>\n",
       "      <td>4.0</td>\n",
       "      <td>65.0</td>\n",
       "      <td>NaN</td>\n",
       "    </tr>\n",
       "    <tr>\n",
       "      <th>2</th>\n",
       "      <td>2023-05-01 18:00:43.604</td>\n",
       "      <td>0.0</td>\n",
       "      <td>0.0</td>\n",
       "      <td>0.885405</td>\n",
       "      <td>0.0</td>\n",
       "      <td>0.0</td>\n",
       "      <td>0.0</td>\n",
       "      <td>0.630772</td>\n",
       "      <td>0.0</td>\n",
       "      <td>0.0</td>\n",
       "      <td>...</td>\n",
       "      <td>5.121613</td>\n",
       "      <td>-0.575714</td>\n",
       "      <td>4.695435</td>\n",
       "      <td>1.0</td>\n",
       "      <td>2.0</td>\n",
       "      <td>1.0</td>\n",
       "      <td>1.0</td>\n",
       "      <td>4.0</td>\n",
       "      <td>65.0</td>\n",
       "      <td>NaN</td>\n",
       "    </tr>\n",
       "    <tr>\n",
       "      <th>3</th>\n",
       "      <td>2023-05-01 18:00:43.604</td>\n",
       "      <td>0.0</td>\n",
       "      <td>0.0</td>\n",
       "      <td>0.885405</td>\n",
       "      <td>0.0</td>\n",
       "      <td>0.0</td>\n",
       "      <td>0.0</td>\n",
       "      <td>0.630772</td>\n",
       "      <td>0.0</td>\n",
       "      <td>0.0</td>\n",
       "      <td>...</td>\n",
       "      <td>5.121613</td>\n",
       "      <td>-0.575714</td>\n",
       "      <td>4.695435</td>\n",
       "      <td>1.0</td>\n",
       "      <td>2.0</td>\n",
       "      <td>1.0</td>\n",
       "      <td>1.0</td>\n",
       "      <td>4.0</td>\n",
       "      <td>65.0</td>\n",
       "      <td>NaN</td>\n",
       "    </tr>\n",
       "    <tr>\n",
       "      <th>4</th>\n",
       "      <td>2023-05-01 18:00:43.605</td>\n",
       "      <td>0.0</td>\n",
       "      <td>0.0</td>\n",
       "      <td>0.885405</td>\n",
       "      <td>0.0</td>\n",
       "      <td>0.0</td>\n",
       "      <td>0.0</td>\n",
       "      <td>0.630772</td>\n",
       "      <td>0.0</td>\n",
       "      <td>0.0</td>\n",
       "      <td>...</td>\n",
       "      <td>5.121613</td>\n",
       "      <td>-0.575714</td>\n",
       "      <td>4.695435</td>\n",
       "      <td>1.0</td>\n",
       "      <td>2.0</td>\n",
       "      <td>1.0</td>\n",
       "      <td>1.0</td>\n",
       "      <td>4.0</td>\n",
       "      <td>65.0</td>\n",
       "      <td>NaN</td>\n",
       "    </tr>\n",
       "  </tbody>\n",
       "</table>\n",
       "<p>5 rows × 41 columns</p>\n",
       "</div>"
      ],
      "text/plain": [
       "                 TimeStamp  Delta_TP9  Delta_AF7  Delta_AF8  Delta_TP10  \\\n",
       "0  2023-05-01 18:00:43.602        0.0        0.0   0.885405         0.0   \n",
       "1  2023-05-01 18:00:43.603        0.0        0.0   0.885405         0.0   \n",
       "2  2023-05-01 18:00:43.604        0.0        0.0   0.885405         0.0   \n",
       "3  2023-05-01 18:00:43.604        0.0        0.0   0.885405         0.0   \n",
       "4  2023-05-01 18:00:43.605        0.0        0.0   0.885405         0.0   \n",
       "\n",
       "   Theta_TP9  Theta_AF7  Theta_AF8  Theta_TP10  Alpha_TP9  ...    Gyro_X  \\\n",
       "0        0.0        0.0   0.630772         0.0        0.0  ...  5.121613   \n",
       "1        0.0        0.0   0.630772         0.0        0.0  ...  5.121613   \n",
       "2        0.0        0.0   0.630772         0.0        0.0  ...  5.121613   \n",
       "3        0.0        0.0   0.630772         0.0        0.0  ...  5.121613   \n",
       "4        0.0        0.0   0.630772         0.0        0.0  ...  5.121613   \n",
       "\n",
       "     Gyro_Y    Gyro_Z  HeadBandOn  HSI_TP9  HSI_AF7  HSI_AF8  HSI_TP10  \\\n",
       "0 -0.575714  4.695435         1.0      2.0      1.0      1.0       4.0   \n",
       "1 -0.575714  4.695435         1.0      2.0      1.0      1.0       4.0   \n",
       "2 -0.575714  4.695435         1.0      2.0      1.0      1.0       4.0   \n",
       "3 -0.575714  4.695435         1.0      2.0      1.0      1.0       4.0   \n",
       "4 -0.575714  4.695435         1.0      2.0      1.0      1.0       4.0   \n",
       "\n",
       "   Battery  Elements  \n",
       "0     65.0       NaN  \n",
       "1     65.0       NaN  \n",
       "2     65.0       NaN  \n",
       "3     65.0       NaN  \n",
       "4     65.0       NaN  \n",
       "\n",
       "[5 rows x 41 columns]"
      ]
     },
     "execution_count": 11,
     "metadata": {},
     "output_type": "execute_result"
    }
   ],
   "source": [
    "single_muse_data.head()"
   ]
  },
  {
   "cell_type": "code",
   "execution_count": 12,
   "id": "6f1465f5",
   "metadata": {
    "ExecuteTime": {
     "start_time": "2024-10-07T10:38:40.968952400Z"
    },
    "colab": {
     "base_uri": "https://localhost:8080/"
    },
    "id": "6f1465f5",
    "outputId": "b61ef8ef-f729-428c-9578-a37bbe5be9c7"
   },
   "outputs": [
    {
     "data": {
      "text/plain": [
       "Index(['ID del participante', 'Trial', 'Respuesta', 'Tiempo de inicio',\n",
       "       'Tiempo de aparición de letras', 'Tiempo de la pulsación',\n",
       "       'Tecla elegida', 'Tiempo de aparición de la letra observada',\n",
       "       'Letra observada'],\n",
       "      dtype='object')"
      ]
     },
     "execution_count": 12,
     "metadata": {},
     "output_type": "execute_result"
    }
   ],
   "source": [
    "all_local_data.columns"
   ]
  },
  {
   "cell_type": "code",
   "execution_count": 13,
   "id": "f3422dc1dbcbd19b",
   "metadata": {
    "ExecuteTime": {
     "start_time": "2024-10-07T10:38:40.971952600Z"
    },
    "colab": {
     "base_uri": "https://localhost:8080/"
    },
    "id": "f3422dc1dbcbd19b",
    "outputId": "18f6631f-55be-4d25-8e74-e1d07bf8b20c"
   },
   "outputs": [
    {
     "data": {
      "text/plain": [
       "Index(['TimeStamp', 'Delta_TP9', 'Delta_AF7', 'Delta_AF8', 'Delta_TP10',\n",
       "       'Theta_TP9', 'Theta_AF7', 'Theta_AF8', 'Theta_TP10', 'Alpha_TP9',\n",
       "       'Alpha_AF7', 'Alpha_AF8', 'Alpha_TP10', 'Beta_TP9', 'Beta_AF7',\n",
       "       'Beta_AF8', 'Beta_TP10', 'Gamma_TP9', 'Gamma_AF7', 'Gamma_AF8',\n",
       "       'Gamma_TP10', 'RAW_TP9', 'RAW_AF7', 'RAW_AF8', 'RAW_TP10', 'AUX_RIGHT',\n",
       "       'Mellow', 'Concentration', 'Accelerometer_X', 'Accelerometer_Y',\n",
       "       'Accelerometer_Z', 'Gyro_X', 'Gyro_Y', 'Gyro_Z', 'HeadBandOn',\n",
       "       'HSI_TP9', 'HSI_AF7', 'HSI_AF8', 'HSI_TP10', 'Battery', 'Elements'],\n",
       "      dtype='object')"
      ]
     },
     "execution_count": 13,
     "metadata": {},
     "output_type": "execute_result"
    }
   ],
   "source": [
    "single_muse_data.columns"
   ]
  },
  {
   "cell_type": "code",
   "execution_count": 14,
   "id": "1c25f7f2-db0a-4b16-af9a-e74cf4a4771a",
   "metadata": {
    "ExecuteTime": {
     "start_time": "2024-10-07T10:38:40.974958100Z"
    },
    "colab": {
     "base_uri": "https://localhost:8080/",
     "height": 523
    },
    "id": "1c25f7f2-db0a-4b16-af9a-e74cf4a4771a",
    "outputId": "c438e1c0-811a-4275-a565-53d736608105"
   },
   "outputs": [
    {
     "name": "stderr",
     "output_type": "stream",
     "text": [
      "c:\\users\\ismael\\miniconda3\\lib\\site-packages\\numpy\\lib\\function_base.py:4655: RuntimeWarning: invalid value encountered in subtract\n",
      "  diff_b_a = subtract(b, a)\n",
      "c:\\users\\ismael\\miniconda3\\lib\\site-packages\\numpy\\lib\\function_base.py:4655: RuntimeWarning: invalid value encountered in subtract\n",
      "  diff_b_a = subtract(b, a)\n",
      "c:\\users\\ismael\\miniconda3\\lib\\site-packages\\numpy\\lib\\function_base.py:4655: RuntimeWarning: invalid value encountered in subtract\n",
      "  diff_b_a = subtract(b, a)\n",
      "c:\\users\\ismael\\miniconda3\\lib\\site-packages\\numpy\\lib\\function_base.py:4655: RuntimeWarning: invalid value encountered in subtract\n",
      "  diff_b_a = subtract(b, a)\n",
      "c:\\users\\ismael\\miniconda3\\lib\\site-packages\\numpy\\lib\\function_base.py:4655: RuntimeWarning: invalid value encountered in subtract\n",
      "  diff_b_a = subtract(b, a)\n"
     ]
    },
    {
     "data": {
      "text/html": [
       "<div>\n",
       "<style scoped>\n",
       "    .dataframe tbody tr th:only-of-type {\n",
       "        vertical-align: middle;\n",
       "    }\n",
       "\n",
       "    .dataframe tbody tr th {\n",
       "        vertical-align: top;\n",
       "    }\n",
       "\n",
       "    .dataframe thead th {\n",
       "        text-align: right;\n",
       "    }\n",
       "</style>\n",
       "<table border=\"1\" class=\"dataframe\">\n",
       "  <thead>\n",
       "    <tr style=\"text-align: right;\">\n",
       "      <th></th>\n",
       "      <th>Delta_TP9</th>\n",
       "      <th>Delta_AF7</th>\n",
       "      <th>Delta_AF8</th>\n",
       "      <th>Delta_TP10</th>\n",
       "      <th>Theta_TP9</th>\n",
       "      <th>Theta_AF7</th>\n",
       "      <th>Theta_AF8</th>\n",
       "      <th>Theta_TP10</th>\n",
       "      <th>Alpha_TP9</th>\n",
       "      <th>Alpha_AF7</th>\n",
       "      <th>...</th>\n",
       "      <th>Accelerometer_Z</th>\n",
       "      <th>Gyro_X</th>\n",
       "      <th>Gyro_Y</th>\n",
       "      <th>Gyro_Z</th>\n",
       "      <th>HeadBandOn</th>\n",
       "      <th>HSI_TP9</th>\n",
       "      <th>HSI_AF7</th>\n",
       "      <th>HSI_AF8</th>\n",
       "      <th>HSI_TP10</th>\n",
       "      <th>Battery</th>\n",
       "    </tr>\n",
       "  </thead>\n",
       "  <tbody>\n",
       "    <tr>\n",
       "      <th>count</th>\n",
       "      <td>597984.0</td>\n",
       "      <td>5.979840e+05</td>\n",
       "      <td>5.979840e+05</td>\n",
       "      <td>597984.0</td>\n",
       "      <td>597984.0</td>\n",
       "      <td>5.979840e+05</td>\n",
       "      <td>5.979840e+05</td>\n",
       "      <td>597984.0</td>\n",
       "      <td>597984.0</td>\n",
       "      <td>5.979840e+05</td>\n",
       "      <td>...</td>\n",
       "      <td>597984.000000</td>\n",
       "      <td>597984.000000</td>\n",
       "      <td>597984.000000</td>\n",
       "      <td>597984.000000</td>\n",
       "      <td>597984.000000</td>\n",
       "      <td>597984.000000</td>\n",
       "      <td>597984.000000</td>\n",
       "      <td>597984.000000</td>\n",
       "      <td>597984.000000</td>\n",
       "      <td>597984.000000</td>\n",
       "    </tr>\n",
       "    <tr>\n",
       "      <th>mean</th>\n",
       "      <td>-inf</td>\n",
       "      <td>-inf</td>\n",
       "      <td>-inf</td>\n",
       "      <td>-inf</td>\n",
       "      <td>-inf</td>\n",
       "      <td>-inf</td>\n",
       "      <td>-inf</td>\n",
       "      <td>-inf</td>\n",
       "      <td>-inf</td>\n",
       "      <td>-inf</td>\n",
       "      <td>...</td>\n",
       "      <td>0.982134</td>\n",
       "      <td>5.184529</td>\n",
       "      <td>-0.439352</td>\n",
       "      <td>4.849920</td>\n",
       "      <td>0.988217</td>\n",
       "      <td>2.425456</td>\n",
       "      <td>1.035349</td>\n",
       "      <td>1.035349</td>\n",
       "      <td>2.435925</td>\n",
       "      <td>65.362618</td>\n",
       "    </tr>\n",
       "    <tr>\n",
       "      <th>std</th>\n",
       "      <td>NaN</td>\n",
       "      <td>NaN</td>\n",
       "      <td>NaN</td>\n",
       "      <td>NaN</td>\n",
       "      <td>NaN</td>\n",
       "      <td>NaN</td>\n",
       "      <td>NaN</td>\n",
       "      <td>NaN</td>\n",
       "      <td>NaN</td>\n",
       "      <td>NaN</td>\n",
       "      <td>...</td>\n",
       "      <td>0.064695</td>\n",
       "      <td>27.434629</td>\n",
       "      <td>10.545978</td>\n",
       "      <td>18.813299</td>\n",
       "      <td>0.107908</td>\n",
       "      <td>0.818634</td>\n",
       "      <td>0.323724</td>\n",
       "      <td>0.323724</td>\n",
       "      <td>0.825961</td>\n",
       "      <td>6.308147</td>\n",
       "    </tr>\n",
       "    <tr>\n",
       "      <th>min</th>\n",
       "      <td>-inf</td>\n",
       "      <td>-inf</td>\n",
       "      <td>-inf</td>\n",
       "      <td>-inf</td>\n",
       "      <td>-inf</td>\n",
       "      <td>-inf</td>\n",
       "      <td>-inf</td>\n",
       "      <td>-inf</td>\n",
       "      <td>-inf</td>\n",
       "      <td>-inf</td>\n",
       "      <td>...</td>\n",
       "      <td>-1.882080</td>\n",
       "      <td>-244.932709</td>\n",
       "      <td>-238.211060</td>\n",
       "      <td>-231.354828</td>\n",
       "      <td>0.000000</td>\n",
       "      <td>1.000000</td>\n",
       "      <td>1.000000</td>\n",
       "      <td>1.000000</td>\n",
       "      <td>1.000000</td>\n",
       "      <td>50.000000</td>\n",
       "    </tr>\n",
       "    <tr>\n",
       "      <th>25%</th>\n",
       "      <td>NaN</td>\n",
       "      <td>3.773297e-01</td>\n",
       "      <td>4.158464e-02</td>\n",
       "      <td>0.0</td>\n",
       "      <td>NaN</td>\n",
       "      <td>4.893955e-02</td>\n",
       "      <td>-3.642102e-02</td>\n",
       "      <td>0.0</td>\n",
       "      <td>NaN</td>\n",
       "      <td>1.561408e-01</td>\n",
       "      <td>...</td>\n",
       "      <td>0.980225</td>\n",
       "      <td>4.874878</td>\n",
       "      <td>-0.643005</td>\n",
       "      <td>4.366455</td>\n",
       "      <td>1.000000</td>\n",
       "      <td>2.000000</td>\n",
       "      <td>1.000000</td>\n",
       "      <td>1.000000</td>\n",
       "      <td>2.000000</td>\n",
       "      <td>60.000000</td>\n",
       "    </tr>\n",
       "    <tr>\n",
       "      <th>50%</th>\n",
       "      <td>0.0</td>\n",
       "      <td>7.489185e-01</td>\n",
       "      <td>4.661365e-01</td>\n",
       "      <td>0.0</td>\n",
       "      <td>0.0</td>\n",
       "      <td>4.039428e-01</td>\n",
       "      <td>2.296184e-01</td>\n",
       "      <td>0.0</td>\n",
       "      <td>0.0</td>\n",
       "      <td>3.732305e-01</td>\n",
       "      <td>...</td>\n",
       "      <td>0.985046</td>\n",
       "      <td>5.203857</td>\n",
       "      <td>-0.284119</td>\n",
       "      <td>4.762726</td>\n",
       "      <td>1.000000</td>\n",
       "      <td>2.000000</td>\n",
       "      <td>1.000000</td>\n",
       "      <td>1.000000</td>\n",
       "      <td>2.000000</td>\n",
       "      <td>65.000000</td>\n",
       "    </tr>\n",
       "    <tr>\n",
       "      <th>75%</th>\n",
       "      <td>0.0</td>\n",
       "      <td>1.012146e+00</td>\n",
       "      <td>7.744220e-01</td>\n",
       "      <td>0.0</td>\n",
       "      <td>0.0</td>\n",
       "      <td>7.077689e-01</td>\n",
       "      <td>4.816160e-01</td>\n",
       "      <td>0.0</td>\n",
       "      <td>0.0</td>\n",
       "      <td>5.732317e-01</td>\n",
       "      <td>...</td>\n",
       "      <td>0.989624</td>\n",
       "      <td>5.532837</td>\n",
       "      <td>0.029907</td>\n",
       "      <td>5.129089</td>\n",
       "      <td>1.000000</td>\n",
       "      <td>2.000000</td>\n",
       "      <td>1.000000</td>\n",
       "      <td>1.000000</td>\n",
       "      <td>2.000000</td>\n",
       "      <td>70.000000</td>\n",
       "    </tr>\n",
       "    <tr>\n",
       "      <th>max</th>\n",
       "      <td>0.0</td>\n",
       "      <td>3.120718e+00</td>\n",
       "      <td>2.938651e+00</td>\n",
       "      <td>0.0</td>\n",
       "      <td>0.0</td>\n",
       "      <td>2.209363e+00</td>\n",
       "      <td>1.987709e+00</td>\n",
       "      <td>0.0</td>\n",
       "      <td>0.0</td>\n",
       "      <td>2.452962e+00</td>\n",
       "      <td>...</td>\n",
       "      <td>1.877625</td>\n",
       "      <td>244.940186</td>\n",
       "      <td>242.151337</td>\n",
       "      <td>230.689392</td>\n",
       "      <td>1.000000</td>\n",
       "      <td>4.000000</td>\n",
       "      <td>4.000000</td>\n",
       "      <td>4.000000</td>\n",
       "      <td>4.000000</td>\n",
       "      <td>75.000000</td>\n",
       "    </tr>\n",
       "  </tbody>\n",
       "</table>\n",
       "<p>8 rows × 39 columns</p>\n",
       "</div>"
      ],
      "text/plain": [
       "       Delta_TP9     Delta_AF7     Delta_AF8  Delta_TP10  Theta_TP9  \\\n",
       "count   597984.0  5.979840e+05  5.979840e+05    597984.0   597984.0   \n",
       "mean        -inf          -inf          -inf        -inf       -inf   \n",
       "std          NaN           NaN           NaN         NaN        NaN   \n",
       "min         -inf          -inf          -inf        -inf       -inf   \n",
       "25%          NaN  3.773297e-01  4.158464e-02         0.0        NaN   \n",
       "50%          0.0  7.489185e-01  4.661365e-01         0.0        0.0   \n",
       "75%          0.0  1.012146e+00  7.744220e-01         0.0        0.0   \n",
       "max          0.0  3.120718e+00  2.938651e+00         0.0        0.0   \n",
       "\n",
       "          Theta_AF7     Theta_AF8  Theta_TP10  Alpha_TP9     Alpha_AF7  ...  \\\n",
       "count  5.979840e+05  5.979840e+05    597984.0   597984.0  5.979840e+05  ...   \n",
       "mean           -inf          -inf        -inf       -inf          -inf  ...   \n",
       "std             NaN           NaN         NaN        NaN           NaN  ...   \n",
       "min            -inf          -inf        -inf       -inf          -inf  ...   \n",
       "25%    4.893955e-02 -3.642102e-02         0.0        NaN  1.561408e-01  ...   \n",
       "50%    4.039428e-01  2.296184e-01         0.0        0.0  3.732305e-01  ...   \n",
       "75%    7.077689e-01  4.816160e-01         0.0        0.0  5.732317e-01  ...   \n",
       "max    2.209363e+00  1.987709e+00         0.0        0.0  2.452962e+00  ...   \n",
       "\n",
       "       Accelerometer_Z         Gyro_X         Gyro_Y         Gyro_Z  \\\n",
       "count    597984.000000  597984.000000  597984.000000  597984.000000   \n",
       "mean          0.982134       5.184529      -0.439352       4.849920   \n",
       "std           0.064695      27.434629      10.545978      18.813299   \n",
       "min          -1.882080    -244.932709    -238.211060    -231.354828   \n",
       "25%           0.980225       4.874878      -0.643005       4.366455   \n",
       "50%           0.985046       5.203857      -0.284119       4.762726   \n",
       "75%           0.989624       5.532837       0.029907       5.129089   \n",
       "max           1.877625     244.940186     242.151337     230.689392   \n",
       "\n",
       "          HeadBandOn        HSI_TP9        HSI_AF7        HSI_AF8  \\\n",
       "count  597984.000000  597984.000000  597984.000000  597984.000000   \n",
       "mean        0.988217       2.425456       1.035349       1.035349   \n",
       "std         0.107908       0.818634       0.323724       0.323724   \n",
       "min         0.000000       1.000000       1.000000       1.000000   \n",
       "25%         1.000000       2.000000       1.000000       1.000000   \n",
       "50%         1.000000       2.000000       1.000000       1.000000   \n",
       "75%         1.000000       2.000000       1.000000       1.000000   \n",
       "max         1.000000       4.000000       4.000000       4.000000   \n",
       "\n",
       "            HSI_TP10        Battery  \n",
       "count  597984.000000  597984.000000  \n",
       "mean        2.435925      65.362618  \n",
       "std         0.825961       6.308147  \n",
       "min         1.000000      50.000000  \n",
       "25%         2.000000      60.000000  \n",
       "50%         2.000000      65.000000  \n",
       "75%         2.000000      70.000000  \n",
       "max         4.000000      75.000000  \n",
       "\n",
       "[8 rows x 39 columns]"
      ]
     },
     "execution_count": 14,
     "metadata": {},
     "output_type": "execute_result"
    }
   ],
   "source": [
    "single_muse_data.describe()"
   ]
  },
  {
   "cell_type": "markdown",
   "id": "e2090b7c-bbb6-457b-8a1a-66cfdb3be600",
   "metadata": {
    "id": "e2090b7c-bbb6-457b-8a1a-66cfdb3be600"
   },
   "source": [
    "## Limpieza de datos"
   ]
  },
  {
   "cell_type": "code",
   "execution_count": 15,
   "id": "66fd0626-d873-4f7e-bafb-817b050788d1",
   "metadata": {
    "ExecuteTime": {
     "start_time": "2024-10-07T10:38:40.977954400Z"
    },
    "id": "66fd0626-d873-4f7e-bafb-817b050788d1"
   },
   "outputs": [],
   "source": [
    "#Resumen del preprocesamiento de datos (incluye algunas partes de las siguientes secciones)\n",
    "def preprocesamiento(single_muse_data, single_local_data):\n",
    "    single_muse_data.replace([np.inf, -np.inf], np.nan,).describe()\n",
    "\n",
    "    raw_data = single_muse_data[['TimeStamp', 'RAW_AF7', 'RAW_AF8']]\n",
    "    raw_data['TimeStamp'] = (pd.to_datetime(raw_data['TimeStamp']))\n",
    "\n",
    "    ventanas, y_ventanas = extraer_ventanas_todas(single_local_data, raw_data)\n",
    "\n",
    "    ventanas = np.insert(ventanas, 0, range(len(ventanas)), axis=2)\n",
    "    ventanas = pd.DataFrame(data=ventanas.reshape(-1, 4), columns=['id', 'TimeStamp', 'RAW_AF7', 'RAW_AF8'])\n",
    "    ventanas = ventanas.astype({'id':'int32', 'RAW_AF7':'float32', 'RAW_AF8':'float32'})\n",
    "    y_ventanas = y_ventanas.map({'p':0, 'q':1})\n",
    "\n",
    "    return ventanas, y_ventanas"
   ]
  },
  {
   "cell_type": "markdown",
   "id": "d513f733-add4-445f-86b8-bca99fcfbb77",
   "metadata": {
    "id": "d513f733-add4-445f-86b8-bca99fcfbb77"
   },
   "source": [
    "Podemos ver que hay muchos valores NaN e infinitos.\n",
    "Vamos a reemplazar los infinitos por NaN para posteriormente eliminar los NaN"
   ]
  },
  {
   "cell_type": "code",
   "execution_count": 16,
   "id": "6f9e9ecc-6b3a-453f-b389-66326248f611",
   "metadata": {
    "ExecuteTime": {
     "start_time": "2024-10-07T10:38:40.980955400Z"
    },
    "colab": {
     "base_uri": "https://localhost:8080/",
     "height": 349
    },
    "id": "6f9e9ecc-6b3a-453f-b389-66326248f611",
    "outputId": "930ab884-8364-4251-f188-a55dd2338627"
   },
   "outputs": [
    {
     "data": {
      "text/html": [
       "<div>\n",
       "<style scoped>\n",
       "    .dataframe tbody tr th:only-of-type {\n",
       "        vertical-align: middle;\n",
       "    }\n",
       "\n",
       "    .dataframe tbody tr th {\n",
       "        vertical-align: top;\n",
       "    }\n",
       "\n",
       "    .dataframe thead th {\n",
       "        text-align: right;\n",
       "    }\n",
       "</style>\n",
       "<table border=\"1\" class=\"dataframe\">\n",
       "  <thead>\n",
       "    <tr style=\"text-align: right;\">\n",
       "      <th></th>\n",
       "      <th>Delta_TP9</th>\n",
       "      <th>Delta_AF7</th>\n",
       "      <th>Delta_AF8</th>\n",
       "      <th>Delta_TP10</th>\n",
       "      <th>Theta_TP9</th>\n",
       "      <th>Theta_AF7</th>\n",
       "      <th>Theta_AF8</th>\n",
       "      <th>Theta_TP10</th>\n",
       "      <th>Alpha_TP9</th>\n",
       "      <th>Alpha_AF7</th>\n",
       "      <th>...</th>\n",
       "      <th>Accelerometer_Z</th>\n",
       "      <th>Gyro_X</th>\n",
       "      <th>Gyro_Y</th>\n",
       "      <th>Gyro_Z</th>\n",
       "      <th>HeadBandOn</th>\n",
       "      <th>HSI_TP9</th>\n",
       "      <th>HSI_AF7</th>\n",
       "      <th>HSI_AF8</th>\n",
       "      <th>HSI_TP10</th>\n",
       "      <th>Battery</th>\n",
       "    </tr>\n",
       "  </thead>\n",
       "  <tbody>\n",
       "    <tr>\n",
       "      <th>count</th>\n",
       "      <td>397602.0</td>\n",
       "      <td>586466.000000</td>\n",
       "      <td>582696.000000</td>\n",
       "      <td>448616.0</td>\n",
       "      <td>397602.0</td>\n",
       "      <td>586466.000000</td>\n",
       "      <td>582696.000000</td>\n",
       "      <td>448616.0</td>\n",
       "      <td>397602.0</td>\n",
       "      <td>586466.000000</td>\n",
       "      <td>...</td>\n",
       "      <td>597984.000000</td>\n",
       "      <td>597984.000000</td>\n",
       "      <td>597984.000000</td>\n",
       "      <td>597984.000000</td>\n",
       "      <td>597984.000000</td>\n",
       "      <td>597984.000000</td>\n",
       "      <td>597984.000000</td>\n",
       "      <td>597984.000000</td>\n",
       "      <td>597984.000000</td>\n",
       "      <td>597984.000000</td>\n",
       "    </tr>\n",
       "    <tr>\n",
       "      <th>mean</th>\n",
       "      <td>0.0</td>\n",
       "      <td>0.694112</td>\n",
       "      <td>0.443715</td>\n",
       "      <td>0.0</td>\n",
       "      <td>0.0</td>\n",
       "      <td>0.400647</td>\n",
       "      <td>0.246206</td>\n",
       "      <td>0.0</td>\n",
       "      <td>0.0</td>\n",
       "      <td>0.391344</td>\n",
       "      <td>...</td>\n",
       "      <td>0.982134</td>\n",
       "      <td>5.184529</td>\n",
       "      <td>-0.439352</td>\n",
       "      <td>4.849920</td>\n",
       "      <td>0.988217</td>\n",
       "      <td>2.425456</td>\n",
       "      <td>1.035349</td>\n",
       "      <td>1.035349</td>\n",
       "      <td>2.435925</td>\n",
       "      <td>65.362618</td>\n",
       "    </tr>\n",
       "    <tr>\n",
       "      <th>std</th>\n",
       "      <td>0.0</td>\n",
       "      <td>0.470893</td>\n",
       "      <td>0.462233</td>\n",
       "      <td>0.0</td>\n",
       "      <td>0.0</td>\n",
       "      <td>0.434443</td>\n",
       "      <td>0.363438</td>\n",
       "      <td>0.0</td>\n",
       "      <td>0.0</td>\n",
       "      <td>0.323494</td>\n",
       "      <td>...</td>\n",
       "      <td>0.064695</td>\n",
       "      <td>27.434629</td>\n",
       "      <td>10.545978</td>\n",
       "      <td>18.813299</td>\n",
       "      <td>0.107908</td>\n",
       "      <td>0.818634</td>\n",
       "      <td>0.323724</td>\n",
       "      <td>0.323724</td>\n",
       "      <td>0.825961</td>\n",
       "      <td>6.308147</td>\n",
       "    </tr>\n",
       "    <tr>\n",
       "      <th>min</th>\n",
       "      <td>0.0</td>\n",
       "      <td>-0.928962</td>\n",
       "      <td>-1.007072</td>\n",
       "      <td>0.0</td>\n",
       "      <td>0.0</td>\n",
       "      <td>-1.146303</td>\n",
       "      <td>-0.889456</td>\n",
       "      <td>0.0</td>\n",
       "      <td>0.0</td>\n",
       "      <td>-1.151816</td>\n",
       "      <td>...</td>\n",
       "      <td>-1.882080</td>\n",
       "      <td>-244.932709</td>\n",
       "      <td>-238.211060</td>\n",
       "      <td>-231.354828</td>\n",
       "      <td>0.000000</td>\n",
       "      <td>1.000000</td>\n",
       "      <td>1.000000</td>\n",
       "      <td>1.000000</td>\n",
       "      <td>1.000000</td>\n",
       "      <td>50.000000</td>\n",
       "    </tr>\n",
       "    <tr>\n",
       "      <th>25%</th>\n",
       "      <td>0.0</td>\n",
       "      <td>0.406367</td>\n",
       "      <td>0.072725</td>\n",
       "      <td>0.0</td>\n",
       "      <td>0.0</td>\n",
       "      <td>0.075552</td>\n",
       "      <td>-0.010488</td>\n",
       "      <td>0.0</td>\n",
       "      <td>0.0</td>\n",
       "      <td>0.172453</td>\n",
       "      <td>...</td>\n",
       "      <td>0.980225</td>\n",
       "      <td>4.874878</td>\n",
       "      <td>-0.643005</td>\n",
       "      <td>4.366455</td>\n",
       "      <td>1.000000</td>\n",
       "      <td>2.000000</td>\n",
       "      <td>1.000000</td>\n",
       "      <td>1.000000</td>\n",
       "      <td>2.000000</td>\n",
       "      <td>60.000000</td>\n",
       "    </tr>\n",
       "    <tr>\n",
       "      <th>50%</th>\n",
       "      <td>0.0</td>\n",
       "      <td>0.760223</td>\n",
       "      <td>0.481981</td>\n",
       "      <td>0.0</td>\n",
       "      <td>0.0</td>\n",
       "      <td>0.415792</td>\n",
       "      <td>0.243377</td>\n",
       "      <td>0.0</td>\n",
       "      <td>0.0</td>\n",
       "      <td>0.380374</td>\n",
       "      <td>...</td>\n",
       "      <td>0.985046</td>\n",
       "      <td>5.203857</td>\n",
       "      <td>-0.284119</td>\n",
       "      <td>4.762726</td>\n",
       "      <td>1.000000</td>\n",
       "      <td>2.000000</td>\n",
       "      <td>1.000000</td>\n",
       "      <td>1.000000</td>\n",
       "      <td>2.000000</td>\n",
       "      <td>65.000000</td>\n",
       "    </tr>\n",
       "    <tr>\n",
       "      <th>75%</th>\n",
       "      <td>0.0</td>\n",
       "      <td>1.018244</td>\n",
       "      <td>0.781304</td>\n",
       "      <td>0.0</td>\n",
       "      <td>0.0</td>\n",
       "      <td>0.713423</td>\n",
       "      <td>0.490123</td>\n",
       "      <td>0.0</td>\n",
       "      <td>0.0</td>\n",
       "      <td>0.577232</td>\n",
       "      <td>...</td>\n",
       "      <td>0.989624</td>\n",
       "      <td>5.532837</td>\n",
       "      <td>0.029907</td>\n",
       "      <td>5.129089</td>\n",
       "      <td>1.000000</td>\n",
       "      <td>2.000000</td>\n",
       "      <td>1.000000</td>\n",
       "      <td>1.000000</td>\n",
       "      <td>2.000000</td>\n",
       "      <td>70.000000</td>\n",
       "    </tr>\n",
       "    <tr>\n",
       "      <th>max</th>\n",
       "      <td>0.0</td>\n",
       "      <td>3.120718</td>\n",
       "      <td>2.938651</td>\n",
       "      <td>0.0</td>\n",
       "      <td>0.0</td>\n",
       "      <td>2.209363</td>\n",
       "      <td>1.987709</td>\n",
       "      <td>0.0</td>\n",
       "      <td>0.0</td>\n",
       "      <td>2.452962</td>\n",
       "      <td>...</td>\n",
       "      <td>1.877625</td>\n",
       "      <td>244.940186</td>\n",
       "      <td>242.151337</td>\n",
       "      <td>230.689392</td>\n",
       "      <td>1.000000</td>\n",
       "      <td>4.000000</td>\n",
       "      <td>4.000000</td>\n",
       "      <td>4.000000</td>\n",
       "      <td>4.000000</td>\n",
       "      <td>75.000000</td>\n",
       "    </tr>\n",
       "  </tbody>\n",
       "</table>\n",
       "<p>8 rows × 39 columns</p>\n",
       "</div>"
      ],
      "text/plain": [
       "       Delta_TP9      Delta_AF7      Delta_AF8  Delta_TP10  Theta_TP9  \\\n",
       "count   397602.0  586466.000000  582696.000000    448616.0   397602.0   \n",
       "mean         0.0       0.694112       0.443715         0.0        0.0   \n",
       "std          0.0       0.470893       0.462233         0.0        0.0   \n",
       "min          0.0      -0.928962      -1.007072         0.0        0.0   \n",
       "25%          0.0       0.406367       0.072725         0.0        0.0   \n",
       "50%          0.0       0.760223       0.481981         0.0        0.0   \n",
       "75%          0.0       1.018244       0.781304         0.0        0.0   \n",
       "max          0.0       3.120718       2.938651         0.0        0.0   \n",
       "\n",
       "           Theta_AF7      Theta_AF8  Theta_TP10  Alpha_TP9      Alpha_AF7  \\\n",
       "count  586466.000000  582696.000000    448616.0   397602.0  586466.000000   \n",
       "mean        0.400647       0.246206         0.0        0.0       0.391344   \n",
       "std         0.434443       0.363438         0.0        0.0       0.323494   \n",
       "min        -1.146303      -0.889456         0.0        0.0      -1.151816   \n",
       "25%         0.075552      -0.010488         0.0        0.0       0.172453   \n",
       "50%         0.415792       0.243377         0.0        0.0       0.380374   \n",
       "75%         0.713423       0.490123         0.0        0.0       0.577232   \n",
       "max         2.209363       1.987709         0.0        0.0       2.452962   \n",
       "\n",
       "       ...  Accelerometer_Z         Gyro_X         Gyro_Y         Gyro_Z  \\\n",
       "count  ...    597984.000000  597984.000000  597984.000000  597984.000000   \n",
       "mean   ...         0.982134       5.184529      -0.439352       4.849920   \n",
       "std    ...         0.064695      27.434629      10.545978      18.813299   \n",
       "min    ...        -1.882080    -244.932709    -238.211060    -231.354828   \n",
       "25%    ...         0.980225       4.874878      -0.643005       4.366455   \n",
       "50%    ...         0.985046       5.203857      -0.284119       4.762726   \n",
       "75%    ...         0.989624       5.532837       0.029907       5.129089   \n",
       "max    ...         1.877625     244.940186     242.151337     230.689392   \n",
       "\n",
       "          HeadBandOn        HSI_TP9        HSI_AF7        HSI_AF8  \\\n",
       "count  597984.000000  597984.000000  597984.000000  597984.000000   \n",
       "mean        0.988217       2.425456       1.035349       1.035349   \n",
       "std         0.107908       0.818634       0.323724       0.323724   \n",
       "min         0.000000       1.000000       1.000000       1.000000   \n",
       "25%         1.000000       2.000000       1.000000       1.000000   \n",
       "50%         1.000000       2.000000       1.000000       1.000000   \n",
       "75%         1.000000       2.000000       1.000000       1.000000   \n",
       "max         1.000000       4.000000       4.000000       4.000000   \n",
       "\n",
       "            HSI_TP10        Battery  \n",
       "count  597984.000000  597984.000000  \n",
       "mean        2.435925      65.362618  \n",
       "std         0.825961       6.308147  \n",
       "min         1.000000      50.000000  \n",
       "25%         2.000000      60.000000  \n",
       "50%         2.000000      65.000000  \n",
       "75%         2.000000      70.000000  \n",
       "max         4.000000      75.000000  \n",
       "\n",
       "[8 rows x 39 columns]"
      ]
     },
     "execution_count": 16,
     "metadata": {},
     "output_type": "execute_result"
    }
   ],
   "source": [
    "single_muse_data.replace([np.inf, -np.inf], np.nan,).describe()"
   ]
  },
  {
   "cell_type": "markdown",
   "id": "647b432d-cbf5-4f4e-9f62-2410ac748bed",
   "metadata": {
    "id": "647b432d-cbf5-4f4e-9f62-2410ac748bed"
   },
   "source": [
    "Vamos a analizar la calidad de los canales según el valor HSI"
   ]
  },
  {
   "cell_type": "code",
   "execution_count": 17,
   "id": "66cd6873-9ba7-45fe-ad9b-5bb733802b3c",
   "metadata": {
    "ExecuteTime": {
     "start_time": "2024-10-07T10:38:40.982956300Z"
    },
    "colab": {
     "base_uri": "https://localhost:8080/"
    },
    "id": "66cd6873-9ba7-45fe-ad9b-5bb733802b3c",
    "outputId": "0c89e829-783c-463a-bb13-aef09754bd1a"
   },
   "outputs": [
    {
     "name": "stderr",
     "output_type": "stream",
     "text": [
      "C:\\Users\\Ismael\\Desktop\\Informatica\\1Universidad\\4ano\\tfg\\codigo\\procesamiento_datos.py:15: DtypeWarning: Columns (40) have mixed types. Specify dtype option on import or set low_memory=False.\n",
      "  datos = pd.read_csv(archivo, header='infer')\n"
     ]
    }
   ],
   "source": [
    "sensores = ['HSI_TP9', 'HSI_AF7', 'HSI_AF8', 'HSI_TP10']\n",
    "media_sensores = []\n",
    "for file in archivos_muse:\n",
    "    current_file = prd.leer_datos(file)\n",
    "    # print(\"---------------------------------------------\")\n",
    "    # print(current_file[sensores].mean())\n",
    "    media_sensores.append(current_file[sensores].mean())"
   ]
  },
  {
   "cell_type": "code",
   "execution_count": 18,
   "id": "3c439de0-5226-45f5-a3ee-9bb29ccff8e0",
   "metadata": {
    "ExecuteTime": {
     "start_time": "2024-10-07T10:38:40.984956100Z"
    },
    "colab": {
     "base_uri": "https://localhost:8080/"
    },
    "id": "3c439de0-5226-45f5-a3ee-9bb29ccff8e0",
    "outputId": "aae61e57-2cfc-4d0a-e2db-9c2e88241c55"
   },
   "outputs": [
    {
     "name": "stdout",
     "output_type": "stream",
     "text": [
      "[[2.4254562  1.03534877 1.03534877 2.43592471]\n",
      " [2.48967401 1.01818431 1.01610252 1.23943284]\n",
      " [2.91058938 1.01497221 1.04610004 3.04941428]\n",
      " [3.57593602 1.0611215  1.03564702 3.38951445]\n",
      " [1.7493025  1.08164162 1.09336802 1.33903661]\n",
      " [1.37379431 1.060764   1.03514284 1.37494427]\n",
      " [2.5898452  1.08743159 1.03561714 2.80174433]\n",
      " [1.36112247 1.03439153 1.0233778  1.64573311]\n",
      " [1.2933927  1.07127029 1.0318052  1.29676472]\n",
      " [3.68879363 1.2721238  1.26530793 3.678508  ]\n",
      " [2.58033505 1.0579797  1.06785932 2.87109059]\n",
      " [3.78477455 1.00928811 1.0182898  3.71881669]\n",
      " [3.96675971 1.03037438 1.03849978 3.88092448]\n",
      " [1.22333991 1.00899828 1.01086677 1.23018413]\n",
      " [2.29589169 1.02502425 1.03177292 2.45100491]\n",
      " [2.51105104 1.02610825 1.03096665 2.8048116 ]\n",
      " [3.6412951  1.15304318 1.0906407  3.63429521]\n",
      " [1.30465316 1.00108432 1.00051859 3.44662699]]\n"
     ]
    }
   ],
   "source": [
    "np_md = np.array(media_sensores)\n",
    "print(np_md)\n",
    "tp9_and_tp10_fail = (np.where((np_md[:,0] > 2) & (np_md[:,3] > 2)))\n",
    "tp9_or_tp10_fail = (np.where((np_md[:,0] > 2) | (np_md[:,3] > 2)))"
   ]
  },
  {
   "cell_type": "code",
   "execution_count": 19,
   "id": "d267daf6-a266-4989-9f64-0174e672943f",
   "metadata": {
    "ExecuteTime": {
     "start_time": "2024-10-07T10:38:40.987956200Z"
    },
    "colab": {
     "base_uri": "https://localhost:8080/"
    },
    "id": "d267daf6-a266-4989-9f64-0174e672943f",
    "outputId": "bef74443-2495-4e09-a4c8-a23d37f00ea6"
   },
   "outputs": [
    {
     "name": "stdout",
     "output_type": "stream",
     "text": [
      "61.111111111111114\n",
      "72.22222222222221\n"
     ]
    }
   ],
   "source": [
    "print(tp9_and_tp10_fail[0].size/len(archivos_muse) * 100)\n",
    "print(tp9_or_tp10_fail[0].size/len(archivos_muse) * 100)"
   ]
  },
  {
   "cell_type": "markdown",
   "id": "b961ca32-fa0d-4e90-aff9-718abf6f38b6",
   "metadata": {
    "id": "b961ca32-fa0d-4e90-aff9-718abf6f38b6"
   },
   "source": [
    "Podemos ver que los sensores AF7 y AF8 no tienen casi ningún problema a lo largo de todos los experimentos. En cambio TP9 y TP10 suelen presentar más errores o datos de peor calidad ya que un valor HSI igual a 4 significa que los datos no son fiables, un valor de 2 significa que son aceptables y por último 1 significa que son buenos. En el 61% de los archivos la media de la calidad del sensor TP9 y TP10 es superior a 2, en el 72% de los casos, uno de los dos sensores tiene una media superior a 2. Por este motivo, vamos a descartar directamente estos sensores de todo el experimento."
   ]
  },
  {
   "cell_type": "markdown",
   "id": "2d7e55d4",
   "metadata": {
    "id": "2d7e55d4"
   },
   "source": [
    "Voy a realizar todo el procedimiento el extracción de características sobre un único dato para agilizar el desarrollo y posteriormente antes de llegar a la fase de selección de modelos y entrenamiento realizaré la manipulación diseñada sobre todo el conjunto de datos."
   ]
  },
  {
   "cell_type": "code",
   "execution_count": 20,
   "id": "e809e2cce2754682",
   "metadata": {
    "ExecuteTime": {
     "start_time": "2024-10-07T10:38:40.989959500Z"
    },
    "id": "e809e2cce2754682"
   },
   "outputs": [],
   "source": [
    "raw_data = single_muse_data[['TimeStamp', 'RAW_AF7', 'RAW_AF8', 'HSI_AF7', 'HSI_AF8']]\n",
    "# raw_data = single_muse_data[['TimeStamp', 'RAW_TP9', 'RAW_AF7', 'RAW_AF8', 'RAW_TP10', 'HSI_TP9', 'HSI_AF7', 'HSI_AF8', 'HSI_TP10']]\n",
    "# raw_data.concat(single_muse_data.loc[:, \"RAW_TP9\":\"RAW_TP10\"])"
   ]
  },
  {
   "cell_type": "code",
   "execution_count": 21,
   "id": "e1f5e6f5",
   "metadata": {
    "ExecuteTime": {
     "start_time": "2024-10-07T10:38:40.991958100Z"
    },
    "colab": {
     "base_uri": "https://localhost:8080/"
    },
    "id": "e1f5e6f5",
    "outputId": "3d0f768b-735b-4506-af04-cf6ed7eb6c1c",
    "scrolled": true
   },
   "outputs": [
    {
     "name": "stderr",
     "output_type": "stream",
     "text": [
      "C:\\Users\\Ismael\\AppData\\Local\\Temp\\ipykernel_26212\\403933132.py:1: SettingWithCopyWarning: \n",
      "A value is trying to be set on a copy of a slice from a DataFrame.\n",
      "Try using .loc[row_indexer,col_indexer] = value instead\n",
      "\n",
      "See the caveats in the documentation: https://pandas.pydata.org/pandas-docs/stable/user_guide/indexing.html#returning-a-view-versus-a-copy\n",
      "  raw_data['TimeStamp'] = (pd.to_datetime(raw_data['TimeStamp']))\n"
     ]
    }
   ],
   "source": [
    "raw_data['TimeStamp'] = (pd.to_datetime(raw_data['TimeStamp']))"
   ]
  },
  {
   "cell_type": "code",
   "execution_count": 22,
   "id": "7dd3289f",
   "metadata": {
    "ExecuteTime": {
     "start_time": "2024-10-07T10:38:40.993959500Z"
    },
    "colab": {
     "base_uri": "https://localhost:8080/",
     "height": 258
    },
    "id": "7dd3289f",
    "outputId": "5de7c40c-8ca9-4d59-b743-36d6e3f37759"
   },
   "outputs": [
    {
     "name": "stdout",
     "output_type": "stream",
     "text": [
      "<class 'pandas._libs.tslibs.timestamps.Timestamp'>\n"
     ]
    },
    {
     "data": {
      "text/plain": [
       "TimeStamp    datetime64[ns]\n",
       "RAW_AF7             float64\n",
       "RAW_AF8             float64\n",
       "HSI_AF7             float64\n",
       "HSI_AF8             float64\n",
       "dtype: object"
      ]
     },
     "execution_count": 22,
     "metadata": {},
     "output_type": "execute_result"
    }
   ],
   "source": [
    "print(type(raw_data['TimeStamp'][0]))\n",
    "raw_data.dtypes"
   ]
  },
  {
   "cell_type": "code",
   "execution_count": 23,
   "id": "eb0985aa07030779",
   "metadata": {
    "ExecuteTime": {
     "start_time": "2024-10-07T10:38:40.994957400Z"
    },
    "colab": {
     "base_uri": "https://localhost:8080/",
     "height": 206
    },
    "id": "eb0985aa07030779",
    "outputId": "5b61e9b9-08d8-4bce-a6bc-ef35dba0ffa3"
   },
   "outputs": [
    {
     "data": {
      "text/html": [
       "<div>\n",
       "<style scoped>\n",
       "    .dataframe tbody tr th:only-of-type {\n",
       "        vertical-align: middle;\n",
       "    }\n",
       "\n",
       "    .dataframe tbody tr th {\n",
       "        vertical-align: top;\n",
       "    }\n",
       "\n",
       "    .dataframe thead th {\n",
       "        text-align: right;\n",
       "    }\n",
       "</style>\n",
       "<table border=\"1\" class=\"dataframe\">\n",
       "  <thead>\n",
       "    <tr style=\"text-align: right;\">\n",
       "      <th></th>\n",
       "      <th>TimeStamp</th>\n",
       "      <th>RAW_AF7</th>\n",
       "      <th>RAW_AF8</th>\n",
       "      <th>HSI_AF7</th>\n",
       "      <th>HSI_AF8</th>\n",
       "    </tr>\n",
       "  </thead>\n",
       "  <tbody>\n",
       "    <tr>\n",
       "      <th>0</th>\n",
       "      <td>2023-05-01 18:00:43.602</td>\n",
       "      <td>770.80585</td>\n",
       "      <td>806.26373</td>\n",
       "      <td>1.0</td>\n",
       "      <td>1.0</td>\n",
       "    </tr>\n",
       "    <tr>\n",
       "      <th>1</th>\n",
       "      <td>2023-05-01 18:00:43.603</td>\n",
       "      <td>763.95605</td>\n",
       "      <td>768.79120</td>\n",
       "      <td>1.0</td>\n",
       "      <td>1.0</td>\n",
       "    </tr>\n",
       "    <tr>\n",
       "      <th>2</th>\n",
       "      <td>2023-05-01 18:00:43.604</td>\n",
       "      <td>791.75824</td>\n",
       "      <td>774.83514</td>\n",
       "      <td>1.0</td>\n",
       "      <td>1.0</td>\n",
       "    </tr>\n",
       "    <tr>\n",
       "      <th>3</th>\n",
       "      <td>2023-05-01 18:00:43.604</td>\n",
       "      <td>818.75460</td>\n",
       "      <td>824.39560</td>\n",
       "      <td>1.0</td>\n",
       "      <td>1.0</td>\n",
       "    </tr>\n",
       "    <tr>\n",
       "      <th>4</th>\n",
       "      <td>2023-05-01 18:00:43.605</td>\n",
       "      <td>809.89014</td>\n",
       "      <td>847.36260</td>\n",
       "      <td>1.0</td>\n",
       "      <td>1.0</td>\n",
       "    </tr>\n",
       "  </tbody>\n",
       "</table>\n",
       "</div>"
      ],
      "text/plain": [
       "                TimeStamp    RAW_AF7    RAW_AF8  HSI_AF7  HSI_AF8\n",
       "0 2023-05-01 18:00:43.602  770.80585  806.26373      1.0      1.0\n",
       "1 2023-05-01 18:00:43.603  763.95605  768.79120      1.0      1.0\n",
       "2 2023-05-01 18:00:43.604  791.75824  774.83514      1.0      1.0\n",
       "3 2023-05-01 18:00:43.604  818.75460  824.39560      1.0      1.0\n",
       "4 2023-05-01 18:00:43.605  809.89014  847.36260      1.0      1.0"
      ]
     },
     "execution_count": 23,
     "metadata": {},
     "output_type": "execute_result"
    }
   ],
   "source": [
    "raw_data.head()"
   ]
  },
  {
   "cell_type": "code",
   "execution_count": 24,
   "id": "6994b7a9",
   "metadata": {
    "ExecuteTime": {
     "start_time": "2024-10-07T10:38:40.997650400Z"
    },
    "colab": {
     "base_uri": "https://localhost:8080/",
     "height": 300
    },
    "id": "6994b7a9",
    "outputId": "59b83bea-2beb-4f09-a637-0b8edba1141b"
   },
   "outputs": [
    {
     "data": {
      "text/html": [
       "<div>\n",
       "<style scoped>\n",
       "    .dataframe tbody tr th:only-of-type {\n",
       "        vertical-align: middle;\n",
       "    }\n",
       "\n",
       "    .dataframe tbody tr th {\n",
       "        vertical-align: top;\n",
       "    }\n",
       "\n",
       "    .dataframe thead th {\n",
       "        text-align: right;\n",
       "    }\n",
       "</style>\n",
       "<table border=\"1\" class=\"dataframe\">\n",
       "  <thead>\n",
       "    <tr style=\"text-align: right;\">\n",
       "      <th></th>\n",
       "      <th>RAW_AF7</th>\n",
       "      <th>RAW_AF8</th>\n",
       "      <th>HSI_AF7</th>\n",
       "      <th>HSI_AF8</th>\n",
       "    </tr>\n",
       "  </thead>\n",
       "  <tbody>\n",
       "    <tr>\n",
       "      <th>count</th>\n",
       "      <td>582600.000000</td>\n",
       "      <td>582516.000000</td>\n",
       "      <td>597984.000000</td>\n",
       "      <td>597984.000000</td>\n",
       "    </tr>\n",
       "    <tr>\n",
       "      <th>mean</th>\n",
       "      <td>794.763168</td>\n",
       "      <td>796.438397</td>\n",
       "      <td>1.035349</td>\n",
       "      <td>1.035349</td>\n",
       "    </tr>\n",
       "    <tr>\n",
       "      <th>std</th>\n",
       "      <td>28.974514</td>\n",
       "      <td>33.982671</td>\n",
       "      <td>0.323724</td>\n",
       "      <td>0.323724</td>\n",
       "    </tr>\n",
       "    <tr>\n",
       "      <th>min</th>\n",
       "      <td>0.000000</td>\n",
       "      <td>0.000000</td>\n",
       "      <td>1.000000</td>\n",
       "      <td>1.000000</td>\n",
       "    </tr>\n",
       "    <tr>\n",
       "      <th>25%</th>\n",
       "      <td>772.820500</td>\n",
       "      <td>771.611700</td>\n",
       "      <td>1.000000</td>\n",
       "      <td>1.000000</td>\n",
       "    </tr>\n",
       "    <tr>\n",
       "      <th>50%</th>\n",
       "      <td>794.578740</td>\n",
       "      <td>796.190500</td>\n",
       "      <td>1.000000</td>\n",
       "      <td>1.000000</td>\n",
       "    </tr>\n",
       "    <tr>\n",
       "      <th>75%</th>\n",
       "      <td>815.531100</td>\n",
       "      <td>820.769200</td>\n",
       "      <td>1.000000</td>\n",
       "      <td>1.000000</td>\n",
       "    </tr>\n",
       "    <tr>\n",
       "      <th>max</th>\n",
       "      <td>1642.344400</td>\n",
       "      <td>1650.000000</td>\n",
       "      <td>4.000000</td>\n",
       "      <td>4.000000</td>\n",
       "    </tr>\n",
       "  </tbody>\n",
       "</table>\n",
       "</div>"
      ],
      "text/plain": [
       "             RAW_AF7        RAW_AF8        HSI_AF7        HSI_AF8\n",
       "count  582600.000000  582516.000000  597984.000000  597984.000000\n",
       "mean      794.763168     796.438397       1.035349       1.035349\n",
       "std        28.974514      33.982671       0.323724       0.323724\n",
       "min         0.000000       0.000000       1.000000       1.000000\n",
       "25%       772.820500     771.611700       1.000000       1.000000\n",
       "50%       794.578740     796.190500       1.000000       1.000000\n",
       "75%       815.531100     820.769200       1.000000       1.000000\n",
       "max      1642.344400    1650.000000       4.000000       4.000000"
      ]
     },
     "execution_count": 24,
     "metadata": {},
     "output_type": "execute_result"
    }
   ],
   "source": [
    "raw_data.describe()"
   ]
  },
  {
   "cell_type": "markdown",
   "id": "8f121811-1d96-4786-b9af-62d052351e68",
   "metadata": {},
   "source": [
    "Visualización de outliers"
   ]
  },
  {
   "cell_type": "code",
   "execution_count": 25,
   "id": "d80d7f96-d43f-492e-88f2-058d606d4764",
   "metadata": {},
   "outputs": [
    {
     "data": {
      "text/plain": [
       "<Axes: >"
      ]
     },
     "execution_count": 25,
     "metadata": {},
     "output_type": "execute_result"
    },
    {
     "data": {
      "image/png": "[encoded data removed]",
      "text/plain": [
       "<Figure size 432x288 with 1 Axes>"
      ]
     },
     "metadata": {
      "needs_background": "light"
     },
     "output_type": "display_data"
    }
   ],
   "source": [
    "raw_data[['RAW_AF7','RAW_AF8']].boxplot()"
   ]
  },
  {
   "cell_type": "markdown",
   "id": "a35e344d-4616-4e2f-a36c-86ea697da3bd",
   "metadata": {},
   "source": [
    "Calculo el percentil 5|95 y 1|99 de los datos en crudo del fichero dado que utilizaré estos valores como umbrales. Descartaré un dato si el valor de alguno de los dos sensores se encuentra fuera del intervalo de los percentiles mencionados."
   ]
  },
  {
   "cell_type": "code",
   "execution_count": 26,
   "id": "2d2401b3-e765-4381-93ca-18eaca5861b0",
   "metadata": {},
   "outputs": [
    {
     "name": "stdout",
     "output_type": "stream",
     "text": [
      "754.0842250000001\n",
      "836.88643\n",
      "----------\n",
      "739.3772799999999\n",
      "856.227115\n"
     ]
    }
   ],
   "source": [
    "q005_8 = raw_data['RAW_AF8'].quantile(0.05)\n",
    "q095_8 = raw_data['RAW_AF8'].quantile(0.95)\n",
    "q005_7 = raw_data['RAW_AF7'].quantile(0.05)\n",
    "q095_7 = raw_data['RAW_AF7'].quantile(0.95)\n",
    "\n",
    "q005_f = (q005_7 + q005_8)/2\n",
    "q095_f = (q095_7 + q095_8)/2\n",
    "print(q005_f)\n",
    "print(q095_f)\n",
    "print(\"----------\")\n",
    "q001_8 = raw_data['RAW_AF8'].quantile(0.01)\n",
    "q099_8 = raw_data['RAW_AF8'].quantile(0.99)\n",
    "q001_7 = raw_data['RAW_AF7'].quantile(0.01)\n",
    "q099_7 = raw_data['RAW_AF7'].quantile(0.99)\n",
    "\n",
    "q001_f = (q001_7 + q001_8)/2\n",
    "q099_f = (q099_7 + q099_8)/2\n",
    "print(q001_f)\n",
    "print(q099_f)\n"
   ]
  },
  {
   "cell_type": "markdown",
   "id": "748c6e45-8d0d-4c3e-8416-0be3d6bae106",
   "metadata": {},
   "source": [
    "Finalmente utilizaré los percentiles 1 y 99. "
   ]
  },
  {
   "cell_type": "markdown",
   "id": "48fa6be4-6dff-450d-9334-7b73799344b1",
   "metadata": {
    "id": "48fa6be4-6dff-450d-9334-7b73799344b1"
   },
   "source": [
    "Vamos a eliminar los filas con valores nulos."
   ]
  },
  {
   "cell_type": "code",
   "execution_count": 27,
   "id": "c3d3f3fa-54c5-496a-88b6-ca247fccdb4a",
   "metadata": {
    "ExecuteTime": {
     "start_time": "2024-10-07T10:38:40.999642200Z"
    },
    "colab": {
     "base_uri": "https://localhost:8080/"
    },
    "id": "c3d3f3fa-54c5-496a-88b6-ca247fccdb4a",
    "outputId": "97a265a4-10ca-4147-bb58-63096633c412"
   },
   "outputs": [
    {
     "name": "stdout",
     "output_type": "stream",
     "text": [
      "48892\n",
      "TimeStamp    602494\n",
      "RAW_AF7      582600\n",
      "RAW_AF8      582516\n",
      "HSI_AF7      597984\n",
      "HSI_AF8      597984\n",
      "dtype: int64\n"
     ]
    }
   ],
   "source": [
    "print(raw_data.isna().sum().sum())\n",
    "print(raw_data.count())"
   ]
  },
  {
   "cell_type": "markdown",
   "id": "4a2a9742-98a6-41dd-a37f-3d3a68425a38",
   "metadata": {
    "id": "4a2a9742-98a6-41dd-a37f-3d3a68425a38"
   },
   "source": [
    "Pero en lugar de hacerlo directamente sobre todos los datos del fichero lo haremos más adelante pero solo sobre las ventanas, reduciendo asi la cantidad de datos procesados."
   ]
  },
  {
   "cell_type": "code",
   "execution_count": 28,
   "id": "37441733-9fbe-42d4-b47f-dbbb81822c09",
   "metadata": {
    "ExecuteTime": {
     "end_time": "2024-10-07T10:38:41.700779700Z",
     "start_time": "2024-10-07T10:38:41.002641800Z"
    },
    "id": "37441733-9fbe-42d4-b47f-dbbb81822c09"
   },
   "outputs": [],
   "source": [
    "# raw_data.dropna()"
   ]
  },
  {
   "cell_type": "markdown",
   "id": "0b19e6d9",
   "metadata": {
    "id": "0b19e6d9"
   },
   "source": [
    "A continuación vamos a extraer una ventana para la primera respuesta. Las ventanas son los datos dentro de un intervalo de tiempo. Para ello tenemos que buscar coger el tiempo de pulsación de los datos 'Local' y dado un tamaño de ventana seleccionar todos las entradas dentro de ese intervalo\n",
    "\n",
    "Para el tamaño de la ventana vamos a utilizar 'ms_prev' milisegundos previos a la pulsación y 'ms_post' milisegundos posteriores a la pulsación.\n",
    "También utilizaremos un umbral inferior y superior (low_th y high_th) para descartar los datos que se encuentre fuera de dicho intervalo, los umbrales irán definidos por los percetiles 1 y 99 de los valores en crudo."
   ]
  },
  {
   "cell_type": "code",
   "execution_count": 46,
   "id": "c33599b9",
   "metadata": {
    "ExecuteTime": {
     "end_time": "2024-10-07T10:38:41.720777800Z",
     "start_time": "2024-10-07T10:38:41.005653500Z"
    },
    "id": "c33599b9"
   },
   "outputs": [],
   "source": [
    "def extraer_ventana(single_muse_data, time_stamp, ms_prev, ms_post, low_th=740.0, high_th=855.0):\n",
    "    tiempo_inicio = time_stamp - pd.Timedelta(milliseconds=ms_prev, unit='milliseconds')\n",
    "    tiempo_fin = time_stamp + pd.Timedelta(milliseconds=ms_post, unit='milliseconds')\n",
    "\n",
    "    ventana = single_muse_data[(single_muse_data['TimeStamp'] >= tiempo_inicio) & (single_muse_data['TimeStamp'] <= tiempo_fin)\n",
    "                             & (single_muse_data['RAW_AF7'] >= low_th) & (single_muse_data['RAW_AF7'] <= high_th)\n",
    "                             & (single_muse_data['RAW_AF8'] >= low_th) & (single_muse_data['RAW_AF8'] <= high_th)]\n",
    "#     ventana = single_muse_data.where((single_muse_data['TimeStamp'] >= tiempo_inicio))\n",
    "#     mask = (single_muse_data['TimeStamp'] > tiempo_inicio) & (single_muse_data['TimeStamp'] <= tiempo_fin)\n",
    "#     ventana = single_muse_data.loc((single_muse_data['TimeStamp'] >= tiempo_inicio))\n",
    "#     print(single_muse_data['TimeStamp'].dtype)\n",
    "#     print(type(tiempo_inicio), type(tiempo_fin))\n",
    "#     print(tiempo_inicio)\n",
    "\n",
    "    return ventana"
   ]
  },
  {
   "cell_type": "code",
   "execution_count": 30,
   "id": "dune5hAj9zYe",
   "metadata": {
    "ExecuteTime": {
     "end_time": "2024-10-07T10:38:41.749842400Z",
     "start_time": "2024-10-07T10:38:41.016640700Z"
    },
    "colab": {
     "base_uri": "https://localhost:8080/",
     "height": 211
    },
    "id": "dune5hAj9zYe",
    "outputId": "35f710f3-9e2a-48d3-de85-72da325a9d2f"
   },
   "outputs": [],
   "source": [
    "# tiempo_inicio = ts_prueba - pd.Timedelta(800, unit='milliseconds')\n",
    "# tiempo_fin = ts_prueba + pd.Timedelta(200, unit='milliseconds')\n",
    "\n",
    "# print(ts_prueba, tiempo_inicio, tiempo_fin)\n",
    "# # ventana = raw_data[(raw_data['TimeStamp'] >= tiempo_inicio) & (raw_data['TimeStamp'] <= tiempo_fin)]\n",
    "# # raw_data[(raw_data['TimeStamp'] >= tiempo_inicio) & (raw_data['TimeStamp'] <= tiempo_fin)]\n",
    "# raw_data.head()"
   ]
  },
  {
   "cell_type": "code",
   "execution_count": 31,
   "id": "qk5-jThI-AR8",
   "metadata": {
    "ExecuteTime": {
     "end_time": "2024-10-07T10:38:41.751820400Z",
     "start_time": "2024-10-07T10:38:41.032644300Z"
    },
    "id": "qk5-jThI-AR8"
   },
   "outputs": [],
   "source": [
    "  # ventana.head()"
   ]
  },
  {
   "cell_type": "code",
   "execution_count": 45,
   "id": "2febb5b4",
   "metadata": {
    "ExecuteTime": {
     "start_time": "2024-10-07T10:38:41.048641400Z"
    },
    "colab": {
     "base_uri": "https://localhost:8080/"
    },
    "id": "2febb5b4",
    "outputId": "0d0d7d90-fd5d-45b3-d3d2-e3ad42016019"
   },
   "outputs": [
    {
     "name": "stdout",
     "output_type": "stream",
     "text": [
      "                   TimeStamp    RAW_AF7    RAW_AF8  HSI_AF7  HSI_AF8\n",
      "3480 2023-05-01 18:00:57.045  788.93774  765.97070      1.0      1.0\n",
      "3481 2023-05-01 18:00:57.047  795.78754  747.43590      1.0      1.0\n",
      "3486 2023-05-01 18:00:57.057  786.11720  775.64105      1.0      1.0\n",
      "3487 2023-05-01 18:00:57.058  791.35530  752.27106      1.0      1.0\n",
      "3491 2023-05-01 18:00:57.063  783.29670  778.05860      1.0      1.0\n",
      "751.06226\n",
      "799.81683\n"
     ]
    }
   ],
   "source": [
    "ts_prueba = pd.to_datetime(single_local_data['Tiempo de la pulsación'][0])\n",
    "ventana_prueba = extraer_ventana(raw_data, ts_prueba, 800, 200)\n",
    "# print(ts_prueba)\n",
    "# print(type(ts_prueba))\n",
    "print(ventana_prueba.head())\n",
    "print(ventana_prueba['RAW_AF7'].min())\n",
    "print(ventana_prueba['RAW_AF7'].max())\n",
    "# print(ventana_prueba.describe())"
   ]
  },
  {
   "cell_type": "markdown",
   "id": "df281dd0-be96-42b4-b314-65a1d9070321",
   "metadata": {
    "id": "df281dd0-be96-42b4-b314-65a1d9070321"
   },
   "source": [
    "Vamos a eliminar ahora los datos NaN de la ventana seleccionada."
   ]
  },
  {
   "cell_type": "code",
   "execution_count": 30,
   "id": "ee8535c0-b636-4ef0-b97f-d78b045fde30",
   "metadata": {
    "ExecuteTime": {
     "start_time": "2024-10-07T10:38:41.079644500Z"
    },
    "colab": {
     "base_uri": "https://localhost:8080/"
    },
    "id": "ee8535c0-b636-4ef0-b97f-d78b045fde30",
    "outputId": "cceadead-6ef1-4865-b991-f42ae560c4bd"
   },
   "outputs": [
    {
     "name": "stdout",
     "output_type": "stream",
     "text": [
      "12\n",
      "TimeStamp    267\n",
      "RAW_AF7      264\n",
      "RAW_AF8      264\n",
      "HSI_AF7      264\n",
      "HSI_AF8      264\n",
      "dtype: int64\n",
      "0\n",
      "TimeStamp    264\n",
      "RAW_AF7      264\n",
      "RAW_AF8      264\n",
      "HSI_AF7      264\n",
      "HSI_AF8      264\n",
      "dtype: int64\n"
     ]
    },
    {
     "name": "stderr",
     "output_type": "stream",
     "text": [
      "C:\\Users\\Ismael\\AppData\\Local\\Temp\\ipykernel_8696\\1577816373.py:3: SettingWithCopyWarning: \n",
      "A value is trying to be set on a copy of a slice from a DataFrame\n",
      "\n",
      "See the caveats in the documentation: https://pandas.pydata.org/pandas-docs/stable/user_guide/indexing.html#returning-a-view-versus-a-copy\n",
      "  ventana_prueba.dropna(inplace= True)\n"
     ]
    }
   ],
   "source": [
    "print(ventana_prueba.isna().sum().sum())\n",
    "print(ventana_prueba.count())\n",
    "ventana_prueba.dropna(inplace= True)\n",
    "print(ventana_prueba.isna().sum().sum())\n",
    "print(ventana_prueba.count())"
   ]
  },
  {
   "cell_type": "code",
   "execution_count": 31,
   "id": "e868755f",
   "metadata": {
    "ExecuteTime": {
     "start_time": "2024-10-07T10:38:41.083643900Z"
    },
    "colab": {
     "base_uri": "https://localhost:8080/"
    },
    "id": "e868755f",
    "outputId": "92ca6542-3af4-4a06-e9f9-abb8b962c527"
   },
   "outputs": [
    {
     "name": "stdout",
     "output_type": "stream",
     "text": [
      "Index(['TimeStamp', 'RAW_AF7', 'RAW_AF8', 'HSI_AF7', 'HSI_AF8'], dtype='object')\n"
     ]
    }
   ],
   "source": [
    "print(ventana_prueba.columns)"
   ]
  },
  {
   "cell_type": "markdown",
   "id": "c1392e3f-f8d4-47d7-80a3-38a51a319007",
   "metadata": {
    "id": "c1392e3f-f8d4-47d7-80a3-38a51a319007"
   },
   "source": [
    "## Visualización datos"
   ]
  },
  {
   "cell_type": "markdown",
   "id": "e34e16a1",
   "metadata": {},
   "source": [
    "Balance de clases 0(p)-1(q) en todos los ficheros"
   ]
  },
  {
   "cell_type": "code",
   "execution_count": 32,
   "id": "96ca34f9",
   "metadata": {
    "ExecuteTime": {
     "end_time": "2024-10-07T10:38:08.478763900Z",
     "start_time": "2024-10-07T10:38:07.839522400Z"
    },
    "id": "96ca34f9"
   },
   "outputs": [
    {
     "data": {
      "image/png": "[encoded data removed]",
      "text/plain": [
       "<Figure size 864x432 with 1 Axes>"
      ]
     },
     "metadata": {
      "needs_background": "light"
     },
     "output_type": "display_data"
    }
   ],
   "source": [
    "prd.balance_clases(os.getcwd())"
   ]
  },
  {
   "cell_type": "markdown",
   "id": "a24a7cf1-3838-42d9-8f93-05d43f86c36f",
   "metadata": {},
   "source": [
    "Podemos ver que solo 4 archivos tienen un desbalance en los datos superior al 60% y que solo un sujeto, el 7, se presenta un desbalance del 70%"
   ]
  },
  {
   "cell_type": "code",
   "execution_count": null,
   "id": "c894ff20",
   "metadata": {
    "id": "c894ff20"
   },
   "outputs": [],
   "source": [
    "def plot_eeg(window, title, idx_channel, ylabel=\"Tiempo (MM:SS.f)\", time_format='%M:%S.%f'):\n",
    "    # plt.figure(figsize=(12, 8))\n",
    "    fig, ax = plt.subplots(figsize=(12,8))\n",
    "    plt.plot(window['TimeStamp'], window.iloc[:, idx_channel], label=window.columns[idx_channel])\n",
    "    ax.xaxis.set_major_formatter(mdates.DateFormatter(time_format))\n",
    "\n",
    "    # Adding titles and labels\n",
    "    plt.title(title)\n",
    "    plt.xlabel(ylabel)\n",
    "    plt.ylabel('Amplitud (µV)')\n",
    "    plt.legend(loc='upper right')\n",
    "    plt.show()"
   ]
  },
  {
   "cell_type": "code",
   "execution_count": null,
   "id": "d2630e89",
   "metadata": {
    "colab": {
     "base_uri": "https://localhost:8080/",
     "height": 1000
    },
    "id": "d2630e89",
    "outputId": "a979f183-318e-40ad-84ad-26f35967eb28",
    "scrolled": true
   },
   "outputs": [],
   "source": [
    "plot_eeg(ventana_prueba, \"Datos en crudo para una ventana de 1 segundo\",2)\n",
    "plot_eeg(raw_data, \"Datos en crudo de todo un fichero\",2, ylabel=\"Tiempo (HH:MM)\", time_format='%H:%M')"
   ]
  },
  {
   "cell_type": "markdown",
   "id": "2d6eae06",
   "metadata": {
    "id": "2d6eae06"
   },
   "source": [
    "La visualización no es la típica señal que esperamos debido a que nuestros datos solo tienen valores en el intervalo {0-1682}. A continuación podemos ver como se suelen ver este tipo de señales.\n",
    "\n",
    "De la gráfica de todos los datos en crudo y del describe() del dataset podemos concluir que los datos de mayor interés se encuentra entre 500 y 1000 micro voltios, el resto lo podemos considerar como valores atípicos, outliers y ruido, por ello deberiamos filtrar los datos y descartar dichos valores."
   ]
  },
  {
   "cell_type": "code",
   "execution_count": null,
   "id": "5622ebb1",
   "metadata": {
    "colab": {
     "base_uri": "https://localhost:8080/",
     "height": 487
    },
    "id": "5622ebb1",
    "outputId": "e9cc9a79-f36b-4035-9b0f-d34e5b6b9b4c"
   },
   "outputs": [
    {
     "data": {
      "text/html": [
       "<img src=\"https://images.squarespace-cdn.com/content/v1/53fbefb1e4b01a33986e0cfc/1409757437358-63WXI9WHO2HXGX7N4E2A/image-asset.png?format=2500w\"/>"
      ],
      "text/plain": [
       "<IPython.core.display.Image object>"
      ]
     },
     "execution_count": 38,
     "metadata": {},
     "output_type": "execute_result"
    }
   ],
   "source": [
    "\n",
    "# Fuente: http://www.chelseajin.com/blog/eeg\n",
    "Image(url= \"https://images.squarespace-cdn.com/content/v1/53fbefb1e4b01a33986e0cfc/1409757437358-63WXI9WHO2HXGX7N4E2A/image-asset.png?format=2500w\")"
   ]
  },
  {
   "cell_type": "markdown",
   "id": "f7a9ca26-6efa-4033-ad8d-5224406cfdda",
   "metadata": {
    "id": "f7a9ca26-6efa-4033-ad8d-5224406cfdda"
   },
   "source": [
    "### Transformada de Fourier"
   ]
  },
  {
   "cell_type": "markdown",
   "id": "f9878d05-83e8-4533-8880-cda5ea95ffb3",
   "metadata": {
    "id": "f9878d05-83e8-4533-8880-cda5ea95ffb3"
   },
   "source": [
    "Vamos a ver que frecuencias estan presentes en la muestra extraida."
   ]
  },
  {
   "cell_type": "code",
   "execution_count": null,
   "id": "95836e2b-ca17-4c65-a615-534cfa00d62c",
   "metadata": {
    "colab": {
     "base_uri": "https://localhost:8080/",
     "height": 948
    },
    "id": "95836e2b-ca17-4c65-a615-534cfa00d62c",
    "outputId": "11c2a0bb-1dda-470e-81b7-840cdae8f04d"
   },
   "outputs": [
    {
     "name": "stderr",
     "output_type": "stream",
     "text": [
      "/usr/local/lib/python3.10/dist-packages/matplotlib/cbook/__init__.py:1335: ComplexWarning: Casting complex values to real discards the imaginary part\n",
      "  return np.asarray(x, float)\n"
     ]
    },
    {
     "data": {
      "image/png": "[encoded data removed]",
      "text/plain": [
       "<Figure size 640x480 with 1 Axes>"
      ]
     },
     "metadata": {},
     "output_type": "display_data"
    },
    {
     "data": {
      "image/png": "[encoded data removed]",
      "text/plain": [
       "<Figure size 640x480 with 1 Axes>"
      ]
     },
     "metadata": {},
     "output_type": "display_data"
    }
   ],
   "source": [
    "\n",
    "def plot_fft(data, ylabel=\"Amplitud \"):\n",
    "    N = data.size\n",
    "    T = 1/256 #Tasa de muestreo 256Hz\n",
    "    # x = np.linspace(0.0, N*T, N)\n",
    "    x = np.linspace(0.0, 1.0/(2.0*T), N//2+1)\n",
    "    y = np.fft.rfft(data, norm=\"forward\")\n",
    "    # print(y)\n",
    "    plt.ylabel(\"Amplitud (µV)\")\n",
    "    plt.xlabel(\"Frecuencia (Hz)\")\n",
    "    plt.ylim(-5,10)\n",
    "    plt.plot(x,y)\n",
    "    plt.show()\n",
    "\n",
    "plot_fft(ventana_prueba['RAW_AF7'].dropna())\n",
    "# plt.cla()\n",
    "plot_fft(raw_data['RAW_AF7'].dropna())\n",
    "# print(y)\n",
    "# N = ventana_prueba['RAW_AF7'].dropna().size\n",
    "#     T = 1/256 #Tasa de muestreo 256Hz\n",
    "#     # x = np.linspace(0.0, N*T, N)\n",
    "#     x = np.linspace(0.0, 1.0/(2.0*T), N//2+1)\n",
    "#     y = np.fft.rfft(ventana_prueba['RAW_AF7'].dropna(), norm=\"forward\")\n",
    "#     plt.ylim(-10,30)\n",
    "#     plt.plot(x,y)\n",
    "# print(ventana_prueba['RAW_AF7'])\n",
    "# print(ventana_prueba['RAW_AF7'].describe())\n",
    "# print(ventana_prueba['RAW_AF7'].dropna().describe())\n",
    "# print(ventana_prueba['RAW_AF7'].dropna())\n",
    "# print(ventana_prueba['RAW_AF7'].size)\n",
    "# print(ventana_prueba['RAW_AF7'].dropna().size)"
   ]
  },
  {
   "cell_type": "markdown",
   "id": "f18278cf-bb1e-49eb-a6d2-15fae47e1b19",
   "metadata": {
    "id": "f18278cf-bb1e-49eb-a6d2-15fae47e1b19"
   },
   "source": [
    "En las imágenes anteriores podemos ver la Transformada de Fourier Discreta para los datos del primer fichero.\n",
    "La primera gráfica muestra la transformada para la ventana de 1 segundo situada en la primera respuesta.\n",
    "La segunda gráfica es la transformada sobre todos los datos del primer fichero.\n",
    "En ambos casos podemos ver que se detecta perfectamente una frecuencia de 50Hz. Me llama la atención porque precisamente 50Hz es la frecuencia a la que aparece ruido generado por la red eléctrica, aunque en principio los datos ya cuentan con un filtro Notch para solventar este problema. Otro posible motivo sea que al estar los datos en un intervalo {0-1682}, es decir han sido transformado con un valor absoluto o una transformación similar, la transformada de Fourier no es capaz de extraer perfectamente las frecuencias."
   ]
  },
  {
   "cell_type": "markdown",
   "id": "8c923d07-4b03-4894-b902-6e3ba2f88dbc",
   "metadata": {
    "id": "8c923d07-4b03-4894-b902-6e3ba2f88dbc"
   },
   "source": [
    "Según el creador de Mind Monitor, James Clutterbuck [https://mind-monitor.com/PrivacyPolicy.php ], el filtro Notch no está aplicado en la variable raw_[sensor], sino que se aplica sobre los datos raw para calcular otra variables, por lo tanto es normal que encontremos esta frecuencia en nuestros datos, es ruido.\n",
    "Fuente: https://mind-monitor.com/forums/viewtopic.php?t=1571  y https://mind-monitor.com/forums/viewtopic.php?t=1919"
   ]
  },
  {
   "cell_type": "markdown",
   "id": "7e91613c",
   "metadata": {
    "id": "7e91613c"
   },
   "source": [
    "## Extracción de características"
   ]
  },
  {
   "cell_type": "markdown",
   "id": "297ed1fc-20c6-40a1-9663-a3cee97a79a5",
   "metadata": {
    "id": "297ed1fc-20c6-40a1-9663-a3cee97a79a5"
   },
   "source": [
    "### tsfresh y extracción de ventanas"
   ]
  },
  {
   "cell_type": "markdown",
   "id": "c9d2f9ca-b705-4d1b-baad-e909f4978995",
   "metadata": {
    "id": "c9d2f9ca-b705-4d1b-baad-e909f4978995"
   },
   "source": [
    "A continuación vamos a utilizar TsFresh para extraer características de las ventanas de datos.\n",
    "A partir de este punto comenzaré a realizar este procedimiento para todas las ventanas del primer archivo."
   ]
  },
  {
   "cell_type": "code",
   "execution_count": null,
   "id": "ddece58b-5e02-410e-9955-e2830c95328c",
   "metadata": {
    "colab": {
     "base_uri": "https://localhost:8080/"
    },
    "id": "ddece58b-5e02-410e-9955-e2830c95328c",
    "outputId": "0672f60f-d7d5-4c50-fdd4-f2cac1fcfeb6",
    "scrolled": true
   },
   "outputs": [
    {
     "name": "stdout",
     "output_type": "stream",
     "text": [
      "(264, 5)\n",
      "                   TimeStamp    RAW_AF7    RAW_AF8  HSI_AF7  HSI_AF8\n",
      "3479 2023-05-01 18:00:57.044  815.12823  813.91943      1.0      1.0\n",
      "3480 2023-05-01 18:00:57.045  788.93774  765.97070      1.0      1.0\n",
      "3481 2023-05-01 18:00:57.047  795.78754  747.43590      1.0      1.0\n",
      "3482 2023-05-01 18:00:57.048  830.43960  786.52014      1.0      1.0\n",
      "3483 2023-05-01 18:00:57.049  844.54210  828.82780      1.0      1.0\n"
     ]
    }
   ],
   "source": [
    "print(ventana_prueba.shape)\n",
    "# print(ventana_prueba.columns)\n",
    "print(ventana_prueba[:5])"
   ]
  },
  {
   "cell_type": "markdown",
   "id": "cb8725b3-3e39-4b7c-8bb7-dccb834cacc3",
   "metadata": {
    "id": "cb8725b3-3e39-4b7c-8bb7-dccb834cacc3"
   },
   "source": [
    "Extracción de todas las ventanas y su correspondiente limpieza y preparación para extraer las características"
   ]
  },
  {
   "cell_type": "code",
   "execution_count": null,
   "id": "ee8cb723-2da5-4c5a-a523-ed92e0bac432",
   "metadata": {
    "id": "ee8cb723-2da5-4c5a-a523-ed92e0bac432"
   },
   "outputs": [],
   "source": [
    "def extraer_ventanas_todas(single_local_data, raw_data, low_per=0.01, high_per=0.99):\n",
    "    ventanas = []\n",
    "    y_ventanas = []\n",
    "\n",
    "    #Aceptamos una ventana si se han perdido menos del x% de los datos\n",
    "    tolerancia_valores_perdido = 0.05 # 5%\n",
    "    tam_ventana = round(TASA_MUESTREO * (1-tolerancia_valores_perdido))\n",
    "\n",
    "    #Calculo los percentiles\n",
    "    q001_8 = raw_data['RAW_AF8'].quantile(low_per)\n",
    "    q099_8 = raw_data['RAW_AF8'].quantile(high_per)\n",
    "    q001_7 = raw_data['RAW_AF7'].quantile(low_per)\n",
    "    q099_7 = raw_data['RAW_AF7'].quantile(high_per)\n",
    "    \n",
    "    q001_f = (q001_7 + q001_8)/2\n",
    "    q099_f = (q099_7 + q099_8)/2\n",
    "\n",
    "    for idx, x in single_local_data.iterrows():\n",
    "        time_stamp = pd.to_datetime(single_local_data['Tiempo de la pulsación'][idx])\n",
    "        ventana = extraer_ventana(raw_data, time_stamp, 800, 200, q001_f, q099_f)\n",
    "        ventana.dropna(inplace= True)\n",
    "\n",
    "        if (ventana.shape[0] > tam_ventana):\n",
    "            ventanas.append(ventana[0:tam_ventana])\n",
    "            y_ventanas.append(single_local_data['Tecla elegida'][idx])\n",
    "\n",
    "    return (ventanas, y_ventanas)"
   ]
  },
  {
   "cell_type": "code",
   "execution_count": null,
   "id": "b5ea27ea-153a-4d2b-8b44-84f108690730",
   "metadata": {
    "colab": {
     "base_uri": "https://localhost:8080/"
    },
    "id": "b5ea27ea-153a-4d2b-8b44-84f108690730",
    "outputId": "8c18051d-d24c-4e5d-9e43-acc3f4cd2c6b"
   },
   "outputs": [
    {
     "name": "stderr",
     "output_type": "stream",
     "text": [
      "<ipython-input-41-b5721904a33b>:12: SettingWithCopyWarning: \n",
      "A value is trying to be set on a copy of a slice from a DataFrame\n",
      "\n",
      "See the caveats in the documentation: https://pandas.pydata.org/pandas-docs/stable/user_guide/indexing.html#returning-a-view-versus-a-copy\n",
      "  ventana.dropna(inplace= True)\n"
     ]
    }
   ],
   "source": [
    "# ventanas = []\n",
    "# y_ventanas = []\n",
    "\n",
    "# #Aceptamos una ventana si se han perdido menos del x% de los datos\n",
    "# tolerancia_valores_perdido = 0.05 # 5%\n",
    "# tam_ventana = round(TASA_MUESTREO * (1-tolerancia_valores_perdido))\n",
    "\n",
    "# for idx, x in single_local_data.iterrows():\n",
    "#     time_stamp = pd.to_datetime(single_local_data['Tiempo de la pulsación'][idx])\n",
    "#     ventana = extraer_ventana(raw_data, time_stamp, 800, 200)\n",
    "#     ventana.dropna(inplace= True)\n",
    "#     # print(ventana.shape)\n",
    "\n",
    "#     if (ventana.shape[0] > tam_ventana):\n",
    "#         ventanas.append(ventana[0:tam_ventana])\n",
    "#         # print(single_local_data['Tecla elegida'][idx], idx)\n",
    "#         y_ventanas.append(single_local_data['Tecla elegida'][idx])\n",
    "#     # print(idx)\n",
    "\n",
    "ventanas, y_ventanas = extraer_ventanas_todas(single_local_data)"
   ]
  },
  {
   "cell_type": "code",
   "execution_count": null,
   "id": "118f990a-12a0-4f15-9044-b483c635ae34",
   "metadata": {
    "colab": {
     "base_uri": "https://localhost:8080/"
    },
    "id": "118f990a-12a0-4f15-9044-b483c635ae34",
    "outputId": "96ed97e9-8c81-4de6-db67-a51527b15a92"
   },
   "outputs": [
    {
     "name": "stdout",
     "output_type": "stream",
     "text": [
      "Index(['TimeStamp', 'RAW_AF7', 'RAW_AF8', 'HSI_AF7', 'HSI_AF8'], dtype='object')\n"
     ]
    }
   ],
   "source": [
    "print((ventanas[0]).columns)\n",
    "ventanas = np.array(ventanas) # Perdemos las etiquetas\n",
    "# ventanas = pd.DataFrame(ventanas) #No podemos usar Dataframe con dimensionalidad mayor que 3, alternativa -> xarray"
   ]
  },
  {
   "cell_type": "code",
   "execution_count": null,
   "id": "d76dc299-510b-4a36-bfb1-2c5ba5167911",
   "metadata": {
    "colab": {
     "base_uri": "https://localhost:8080/"
    },
    "id": "d76dc299-510b-4a36-bfb1-2c5ba5167911",
    "outputId": "3683a8a5-f056-4bb9-8f22-a49da5431b41"
   },
   "outputs": [
    {
     "name": "stdout",
     "output_type": "stream",
     "text": [
      "(149, 243, 5)\n"
     ]
    }
   ],
   "source": [
    "print(ventanas.shape)\n",
    "# print(type(ventanas))\n",
    "# print(ventanas)"
   ]
  },
  {
   "cell_type": "markdown",
   "id": "16e9d493-b767-4817-8d8c-bb803f82644b",
   "metadata": {
    "id": "16e9d493-b767-4817-8d8c-bb803f82644b"
   },
   "source": [
    "Para el primer fichero de 164 posibles ventanas hemos acabado con 149. He utilizado un margen de tolerancia del 5% para ventanas que no cuenten con al menos los valores presentes en 1 segundo de la tasa de muestreo, es decir, si la ventana tiene menos de 256*0.95 valores la ventana se descarta. Como consecuencia el número de muestras en todas las ventanas disminiye y por lo tanto las ventanas son de un tamaño ligeramente inferior a 1 segundo."
   ]
  },
  {
   "cell_type": "code",
   "execution_count": null,
   "id": "14110d2a-9efa-4918-b44f-a7ac3090c99a",
   "metadata": {
    "colab": {
     "base_uri": "https://localhost:8080/"
    },
    "id": "14110d2a-9efa-4918-b44f-a7ac3090c99a",
    "outputId": "bd2afd58-7cf3-438c-d283-f21dfcf75eef"
   },
   "outputs": [
    {
     "data": {
      "text/plain": [
       "Index(['ID del participante', 'Trial', 'Respuesta', 'Tiempo de inicio',\n",
       "       'Tiempo de aparición de letras', 'Tiempo de la pulsación', 'Tecla elegida',\n",
       "       'Tiempo de aparición de la letra observada', 'Letra observada'],\n",
       "      dtype='object')"
      ]
     },
     "execution_count": 45,
     "metadata": {},
     "output_type": "execute_result"
    }
   ],
   "source": [
    "single_local_data.columns"
   ]
  },
  {
   "cell_type": "markdown",
   "id": "d0ff5812-57fc-4d59-8bd1-cfb5adf6a3bf",
   "metadata": {
    "id": "d0ff5812-57fc-4d59-8bd1-cfb5adf6a3bf"
   },
   "source": [
    "A continuación voy a añadir una columna id a las ventanas, esto es un requisito de tsfresh. ~~Voy a probar a añadir el mismo id a todas las ventans del primer fichero, en caso de que no sea este el procedimiento correcto~~ añadiré un id distinto a cada ventana y convertiré los datos en un DataFrame, para ello reorgizaré la dimensión para que sea 2D."
   ]
  },
  {
   "cell_type": "code",
   "execution_count": null,
   "id": "1d88a3fa-f8c4-47f0-b821-3ee9d629f5b2",
   "metadata": {
    "id": "1d88a3fa-f8c4-47f0-b821-3ee9d629f5b2"
   },
   "outputs": [],
   "source": [
    "#Añado columna de id a las ventanas\n",
    "ventanas = np.insert(ventanas, 0, 0, axis=2)\n",
    "\n",
    "#Modifico el id para cada ventana\n",
    "for idx, ventana in enumerate(ventanas):\n",
    "    # ventana[] = np.insert(ventana, 0, idx, axis=1)\n",
    "    ventana[:,0] = idx\n",
    "    # if idx == 1:\n",
    "        # print(ventana)\n",
    "\n",
    "# ventanas = np.insert(ventanas, 0, 0, axis=2)\n",
    "# ventanas.shape\n",
    "# print(ventanas[0])\n",
    "# ventana_prueba.insert(0, 'id', single_local_data['ID del participante'][0])"
   ]
  },
  {
   "cell_type": "code",
   "execution_count": null,
   "id": "874cd43d-9fac-49e3-9074-2dcbf5e1cd0c",
   "metadata": {
    "id": "874cd43d-9fac-49e3-9074-2dcbf5e1cd0c"
   },
   "outputs": [],
   "source": [
    "ventanas = pd.DataFrame(data=ventanas.reshape(-1, 6), columns=['id', 'TimeStamp', 'RAW_AF7', 'RAW_AF8', 'HSI_AF7', 'HSI_AF8'])"
   ]
  },
  {
   "cell_type": "markdown",
   "id": "7b71e6f0-aad8-46f8-89c1-8e22ba00b42b",
   "metadata": {
    "id": "7b71e6f0-aad8-46f8-89c1-8e22ba00b42b"
   },
   "source": [
    "Elimino las columnas HSI y casteo los datos a su tipo correspondiente para no tener problemas"
   ]
  },
  {
   "cell_type": "code",
   "execution_count": null,
   "id": "540b71e8-64f6-4eb3-9cec-085a85eb6e09",
   "metadata": {
    "id": "540b71e8-64f6-4eb3-9cec-085a85eb6e09"
   },
   "outputs": [],
   "source": [
    "ventanas = ventanas.iloc[:,0:4]\n",
    "ventanas = ventanas.astype({'id':'int32', 'RAW_AF7':'float32', 'RAW_AF8':'float32'})\n",
    "# ventanas.tail()"
   ]
  },
  {
   "cell_type": "markdown",
   "id": "28c68c76-02fd-42a5-9663-291682ff8ef0",
   "metadata": {
    "id": "28c68c76-02fd-42a5-9663-291682ff8ef0"
   },
   "source": [
    "También casteo a una Serie de pandas la variable objetivo y transformo los valores 'p' y 'q' a 0 y 1 respectivamente"
   ]
  },
  {
   "cell_type": "code",
   "execution_count": null,
   "id": "5c736d85-efe0-4f10-b5a2-15a9988e752e",
   "metadata": {
    "colab": {
     "base_uri": "https://localhost:8080/",
     "height": 1000
    },
    "id": "5c736d85-efe0-4f10-b5a2-15a9988e752e",
    "outputId": "ea187e6e-f419-416c-bf88-266f9f24daf2",
    "scrolled": true
   },
   "outputs": [
    {
     "data": {
      "text/html": [
       "<div>\n",
       "<style scoped>\n",
       "    .dataframe tbody tr th:only-of-type {\n",
       "        vertical-align: middle;\n",
       "    }\n",
       "\n",
       "    .dataframe tbody tr th {\n",
       "        vertical-align: top;\n",
       "    }\n",
       "\n",
       "    .dataframe thead th {\n",
       "        text-align: right;\n",
       "    }\n",
       "</style>\n",
       "<table border=\"1\" class=\"dataframe\">\n",
       "  <thead>\n",
       "    <tr style=\"text-align: right;\">\n",
       "      <th></th>\n",
       "      <th>0</th>\n",
       "    </tr>\n",
       "  </thead>\n",
       "  <tbody>\n",
       "    <tr>\n",
       "      <th>0</th>\n",
       "      <td>1</td>\n",
       "    </tr>\n",
       "    <tr>\n",
       "      <th>1</th>\n",
       "      <td>0</td>\n",
       "    </tr>\n",
       "    <tr>\n",
       "      <th>2</th>\n",
       "      <td>0</td>\n",
       "    </tr>\n",
       "    <tr>\n",
       "      <th>3</th>\n",
       "      <td>1</td>\n",
       "    </tr>\n",
       "    <tr>\n",
       "      <th>4</th>\n",
       "      <td>0</td>\n",
       "    </tr>\n",
       "    <tr>\n",
       "      <th>5</th>\n",
       "      <td>1</td>\n",
       "    </tr>\n",
       "    <tr>\n",
       "      <th>6</th>\n",
       "      <td>1</td>\n",
       "    </tr>\n",
       "    <tr>\n",
       "      <th>7</th>\n",
       "      <td>1</td>\n",
       "    </tr>\n",
       "    <tr>\n",
       "      <th>8</th>\n",
       "      <td>0</td>\n",
       "    </tr>\n",
       "    <tr>\n",
       "      <th>9</th>\n",
       "      <td>1</td>\n",
       "    </tr>\n",
       "    <tr>\n",
       "      <th>10</th>\n",
       "      <td>0</td>\n",
       "    </tr>\n",
       "    <tr>\n",
       "      <th>11</th>\n",
       "      <td>0</td>\n",
       "    </tr>\n",
       "    <tr>\n",
       "      <th>12</th>\n",
       "      <td>1</td>\n",
       "    </tr>\n",
       "    <tr>\n",
       "      <th>13</th>\n",
       "      <td>0</td>\n",
       "    </tr>\n",
       "    <tr>\n",
       "      <th>14</th>\n",
       "      <td>0</td>\n",
       "    </tr>\n",
       "    <tr>\n",
       "      <th>15</th>\n",
       "      <td>1</td>\n",
       "    </tr>\n",
       "    <tr>\n",
       "      <th>16</th>\n",
       "      <td>0</td>\n",
       "    </tr>\n",
       "    <tr>\n",
       "      <th>17</th>\n",
       "      <td>1</td>\n",
       "    </tr>\n",
       "    <tr>\n",
       "      <th>18</th>\n",
       "      <td>1</td>\n",
       "    </tr>\n",
       "    <tr>\n",
       "      <th>19</th>\n",
       "      <td>0</td>\n",
       "    </tr>\n",
       "    <tr>\n",
       "      <th>20</th>\n",
       "      <td>1</td>\n",
       "    </tr>\n",
       "    <tr>\n",
       "      <th>21</th>\n",
       "      <td>0</td>\n",
       "    </tr>\n",
       "    <tr>\n",
       "      <th>22</th>\n",
       "      <td>0</td>\n",
       "    </tr>\n",
       "    <tr>\n",
       "      <th>23</th>\n",
       "      <td>0</td>\n",
       "    </tr>\n",
       "    <tr>\n",
       "      <th>24</th>\n",
       "      <td>0</td>\n",
       "    </tr>\n",
       "    <tr>\n",
       "      <th>25</th>\n",
       "      <td>1</td>\n",
       "    </tr>\n",
       "    <tr>\n",
       "      <th>26</th>\n",
       "      <td>0</td>\n",
       "    </tr>\n",
       "    <tr>\n",
       "      <th>27</th>\n",
       "      <td>0</td>\n",
       "    </tr>\n",
       "    <tr>\n",
       "      <th>28</th>\n",
       "      <td>0</td>\n",
       "    </tr>\n",
       "    <tr>\n",
       "      <th>29</th>\n",
       "      <td>1</td>\n",
       "    </tr>\n",
       "    <tr>\n",
       "      <th>30</th>\n",
       "      <td>0</td>\n",
       "    </tr>\n",
       "    <tr>\n",
       "      <th>31</th>\n",
       "      <td>1</td>\n",
       "    </tr>\n",
       "    <tr>\n",
       "      <th>32</th>\n",
       "      <td>1</td>\n",
       "    </tr>\n",
       "    <tr>\n",
       "      <th>33</th>\n",
       "      <td>0</td>\n",
       "    </tr>\n",
       "    <tr>\n",
       "      <th>34</th>\n",
       "      <td>0</td>\n",
       "    </tr>\n",
       "    <tr>\n",
       "      <th>35</th>\n",
       "      <td>1</td>\n",
       "    </tr>\n",
       "    <tr>\n",
       "      <th>36</th>\n",
       "      <td>1</td>\n",
       "    </tr>\n",
       "    <tr>\n",
       "      <th>37</th>\n",
       "      <td>0</td>\n",
       "    </tr>\n",
       "    <tr>\n",
       "      <th>38</th>\n",
       "      <td>0</td>\n",
       "    </tr>\n",
       "    <tr>\n",
       "      <th>39</th>\n",
       "      <td>1</td>\n",
       "    </tr>\n",
       "    <tr>\n",
       "      <th>40</th>\n",
       "      <td>0</td>\n",
       "    </tr>\n",
       "    <tr>\n",
       "      <th>41</th>\n",
       "      <td>0</td>\n",
       "    </tr>\n",
       "    <tr>\n",
       "      <th>42</th>\n",
       "      <td>0</td>\n",
       "    </tr>\n",
       "    <tr>\n",
       "      <th>43</th>\n",
       "      <td>0</td>\n",
       "    </tr>\n",
       "    <tr>\n",
       "      <th>44</th>\n",
       "      <td>0</td>\n",
       "    </tr>\n",
       "    <tr>\n",
       "      <th>45</th>\n",
       "      <td>0</td>\n",
       "    </tr>\n",
       "    <tr>\n",
       "      <th>46</th>\n",
       "      <td>1</td>\n",
       "    </tr>\n",
       "    <tr>\n",
       "      <th>47</th>\n",
       "      <td>0</td>\n",
       "    </tr>\n",
       "    <tr>\n",
       "      <th>48</th>\n",
       "      <td>0</td>\n",
       "    </tr>\n",
       "    <tr>\n",
       "      <th>49</th>\n",
       "      <td>1</td>\n",
       "    </tr>\n",
       "    <tr>\n",
       "      <th>50</th>\n",
       "      <td>1</td>\n",
       "    </tr>\n",
       "    <tr>\n",
       "      <th>51</th>\n",
       "      <td>1</td>\n",
       "    </tr>\n",
       "    <tr>\n",
       "      <th>52</th>\n",
       "      <td>0</td>\n",
       "    </tr>\n",
       "    <tr>\n",
       "      <th>53</th>\n",
       "      <td>0</td>\n",
       "    </tr>\n",
       "    <tr>\n",
       "      <th>54</th>\n",
       "      <td>1</td>\n",
       "    </tr>\n",
       "    <tr>\n",
       "      <th>55</th>\n",
       "      <td>0</td>\n",
       "    </tr>\n",
       "    <tr>\n",
       "      <th>56</th>\n",
       "      <td>0</td>\n",
       "    </tr>\n",
       "    <tr>\n",
       "      <th>57</th>\n",
       "      <td>0</td>\n",
       "    </tr>\n",
       "    <tr>\n",
       "      <th>58</th>\n",
       "      <td>1</td>\n",
       "    </tr>\n",
       "    <tr>\n",
       "      <th>59</th>\n",
       "      <td>1</td>\n",
       "    </tr>\n",
       "    <tr>\n",
       "      <th>60</th>\n",
       "      <td>0</td>\n",
       "    </tr>\n",
       "    <tr>\n",
       "      <th>61</th>\n",
       "      <td>0</td>\n",
       "    </tr>\n",
       "    <tr>\n",
       "      <th>62</th>\n",
       "      <td>0</td>\n",
       "    </tr>\n",
       "    <tr>\n",
       "      <th>63</th>\n",
       "      <td>0</td>\n",
       "    </tr>\n",
       "    <tr>\n",
       "      <th>64</th>\n",
       "      <td>1</td>\n",
       "    </tr>\n",
       "    <tr>\n",
       "      <th>65</th>\n",
       "      <td>0</td>\n",
       "    </tr>\n",
       "    <tr>\n",
       "      <th>66</th>\n",
       "      <td>0</td>\n",
       "    </tr>\n",
       "    <tr>\n",
       "      <th>67</th>\n",
       "      <td>1</td>\n",
       "    </tr>\n",
       "    <tr>\n",
       "      <th>68</th>\n",
       "      <td>0</td>\n",
       "    </tr>\n",
       "    <tr>\n",
       "      <th>69</th>\n",
       "      <td>0</td>\n",
       "    </tr>\n",
       "    <tr>\n",
       "      <th>70</th>\n",
       "      <td>1</td>\n",
       "    </tr>\n",
       "    <tr>\n",
       "      <th>71</th>\n",
       "      <td>0</td>\n",
       "    </tr>\n",
       "    <tr>\n",
       "      <th>72</th>\n",
       "      <td>1</td>\n",
       "    </tr>\n",
       "    <tr>\n",
       "      <th>73</th>\n",
       "      <td>0</td>\n",
       "    </tr>\n",
       "    <tr>\n",
       "      <th>74</th>\n",
       "      <td>0</td>\n",
       "    </tr>\n",
       "    <tr>\n",
       "      <th>75</th>\n",
       "      <td>1</td>\n",
       "    </tr>\n",
       "    <tr>\n",
       "      <th>76</th>\n",
       "      <td>0</td>\n",
       "    </tr>\n",
       "    <tr>\n",
       "      <th>77</th>\n",
       "      <td>1</td>\n",
       "    </tr>\n",
       "    <tr>\n",
       "      <th>78</th>\n",
       "      <td>1</td>\n",
       "    </tr>\n",
       "    <tr>\n",
       "      <th>79</th>\n",
       "      <td>1</td>\n",
       "    </tr>\n",
       "    <tr>\n",
       "      <th>80</th>\n",
       "      <td>1</td>\n",
       "    </tr>\n",
       "    <tr>\n",
       "      <th>81</th>\n",
       "      <td>0</td>\n",
       "    </tr>\n",
       "    <tr>\n",
       "      <th>82</th>\n",
       "      <td>1</td>\n",
       "    </tr>\n",
       "    <tr>\n",
       "      <th>83</th>\n",
       "      <td>0</td>\n",
       "    </tr>\n",
       "    <tr>\n",
       "      <th>84</th>\n",
       "      <td>1</td>\n",
       "    </tr>\n",
       "    <tr>\n",
       "      <th>85</th>\n",
       "      <td>0</td>\n",
       "    </tr>\n",
       "    <tr>\n",
       "      <th>86</th>\n",
       "      <td>0</td>\n",
       "    </tr>\n",
       "    <tr>\n",
       "      <th>87</th>\n",
       "      <td>1</td>\n",
       "    </tr>\n",
       "    <tr>\n",
       "      <th>88</th>\n",
       "      <td>0</td>\n",
       "    </tr>\n",
       "    <tr>\n",
       "      <th>89</th>\n",
       "      <td>0</td>\n",
       "    </tr>\n",
       "    <tr>\n",
       "      <th>90</th>\n",
       "      <td>0</td>\n",
       "    </tr>\n",
       "    <tr>\n",
       "      <th>91</th>\n",
       "      <td>1</td>\n",
       "    </tr>\n",
       "    <tr>\n",
       "      <th>92</th>\n",
       "      <td>0</td>\n",
       "    </tr>\n",
       "    <tr>\n",
       "      <th>93</th>\n",
       "      <td>1</td>\n",
       "    </tr>\n",
       "    <tr>\n",
       "      <th>94</th>\n",
       "      <td>1</td>\n",
       "    </tr>\n",
       "    <tr>\n",
       "      <th>95</th>\n",
       "      <td>1</td>\n",
       "    </tr>\n",
       "    <tr>\n",
       "      <th>96</th>\n",
       "      <td>0</td>\n",
       "    </tr>\n",
       "    <tr>\n",
       "      <th>97</th>\n",
       "      <td>0</td>\n",
       "    </tr>\n",
       "    <tr>\n",
       "      <th>98</th>\n",
       "      <td>0</td>\n",
       "    </tr>\n",
       "    <tr>\n",
       "      <th>99</th>\n",
       "      <td>1</td>\n",
       "    </tr>\n",
       "    <tr>\n",
       "      <th>100</th>\n",
       "      <td>0</td>\n",
       "    </tr>\n",
       "    <tr>\n",
       "      <th>101</th>\n",
       "      <td>0</td>\n",
       "    </tr>\n",
       "    <tr>\n",
       "      <th>102</th>\n",
       "      <td>0</td>\n",
       "    </tr>\n",
       "    <tr>\n",
       "      <th>103</th>\n",
       "      <td>0</td>\n",
       "    </tr>\n",
       "    <tr>\n",
       "      <th>104</th>\n",
       "      <td>1</td>\n",
       "    </tr>\n",
       "    <tr>\n",
       "      <th>105</th>\n",
       "      <td>0</td>\n",
       "    </tr>\n",
       "    <tr>\n",
       "      <th>106</th>\n",
       "      <td>1</td>\n",
       "    </tr>\n",
       "    <tr>\n",
       "      <th>107</th>\n",
       "      <td>1</td>\n",
       "    </tr>\n",
       "    <tr>\n",
       "      <th>108</th>\n",
       "      <td>0</td>\n",
       "    </tr>\n",
       "    <tr>\n",
       "      <th>109</th>\n",
       "      <td>0</td>\n",
       "    </tr>\n",
       "    <tr>\n",
       "      <th>110</th>\n",
       "      <td>0</td>\n",
       "    </tr>\n",
       "    <tr>\n",
       "      <th>111</th>\n",
       "      <td>1</td>\n",
       "    </tr>\n",
       "    <tr>\n",
       "      <th>112</th>\n",
       "      <td>0</td>\n",
       "    </tr>\n",
       "    <tr>\n",
       "      <th>113</th>\n",
       "      <td>0</td>\n",
       "    </tr>\n",
       "    <tr>\n",
       "      <th>114</th>\n",
       "      <td>0</td>\n",
       "    </tr>\n",
       "    <tr>\n",
       "      <th>115</th>\n",
       "      <td>0</td>\n",
       "    </tr>\n",
       "    <tr>\n",
       "      <th>116</th>\n",
       "      <td>0</td>\n",
       "    </tr>\n",
       "    <tr>\n",
       "      <th>117</th>\n",
       "      <td>0</td>\n",
       "    </tr>\n",
       "    <tr>\n",
       "      <th>118</th>\n",
       "      <td>0</td>\n",
       "    </tr>\n",
       "    <tr>\n",
       "      <th>119</th>\n",
       "      <td>1</td>\n",
       "    </tr>\n",
       "    <tr>\n",
       "      <th>120</th>\n",
       "      <td>1</td>\n",
       "    </tr>\n",
       "    <tr>\n",
       "      <th>121</th>\n",
       "      <td>0</td>\n",
       "    </tr>\n",
       "    <tr>\n",
       "      <th>122</th>\n",
       "      <td>1</td>\n",
       "    </tr>\n",
       "    <tr>\n",
       "      <th>123</th>\n",
       "      <td>0</td>\n",
       "    </tr>\n",
       "    <tr>\n",
       "      <th>124</th>\n",
       "      <td>1</td>\n",
       "    </tr>\n",
       "    <tr>\n",
       "      <th>125</th>\n",
       "      <td>0</td>\n",
       "    </tr>\n",
       "    <tr>\n",
       "      <th>126</th>\n",
       "      <td>0</td>\n",
       "    </tr>\n",
       "    <tr>\n",
       "      <th>127</th>\n",
       "      <td>0</td>\n",
       "    </tr>\n",
       "    <tr>\n",
       "      <th>128</th>\n",
       "      <td>1</td>\n",
       "    </tr>\n",
       "    <tr>\n",
       "      <th>129</th>\n",
       "      <td>0</td>\n",
       "    </tr>\n",
       "    <tr>\n",
       "      <th>130</th>\n",
       "      <td>1</td>\n",
       "    </tr>\n",
       "    <tr>\n",
       "      <th>131</th>\n",
       "      <td>0</td>\n",
       "    </tr>\n",
       "    <tr>\n",
       "      <th>132</th>\n",
       "      <td>0</td>\n",
       "    </tr>\n",
       "    <tr>\n",
       "      <th>133</th>\n",
       "      <td>1</td>\n",
       "    </tr>\n",
       "    <tr>\n",
       "      <th>134</th>\n",
       "      <td>0</td>\n",
       "    </tr>\n",
       "    <tr>\n",
       "      <th>135</th>\n",
       "      <td>0</td>\n",
       "    </tr>\n",
       "    <tr>\n",
       "      <th>136</th>\n",
       "      <td>1</td>\n",
       "    </tr>\n",
       "    <tr>\n",
       "      <th>137</th>\n",
       "      <td>0</td>\n",
       "    </tr>\n",
       "    <tr>\n",
       "      <th>138</th>\n",
       "      <td>0</td>\n",
       "    </tr>\n",
       "    <tr>\n",
       "      <th>139</th>\n",
       "      <td>0</td>\n",
       "    </tr>\n",
       "    <tr>\n",
       "      <th>140</th>\n",
       "      <td>0</td>\n",
       "    </tr>\n",
       "    <tr>\n",
       "      <th>141</th>\n",
       "      <td>0</td>\n",
       "    </tr>\n",
       "    <tr>\n",
       "      <th>142</th>\n",
       "      <td>1</td>\n",
       "    </tr>\n",
       "    <tr>\n",
       "      <th>143</th>\n",
       "      <td>1</td>\n",
       "    </tr>\n",
       "    <tr>\n",
       "      <th>144</th>\n",
       "      <td>0</td>\n",
       "    </tr>\n",
       "    <tr>\n",
       "      <th>145</th>\n",
       "      <td>0</td>\n",
       "    </tr>\n",
       "    <tr>\n",
       "      <th>146</th>\n",
       "      <td>1</td>\n",
       "    </tr>\n",
       "    <tr>\n",
       "      <th>147</th>\n",
       "      <td>0</td>\n",
       "    </tr>\n",
       "    <tr>\n",
       "      <th>148</th>\n",
       "      <td>1</td>\n",
       "    </tr>\n",
       "  </tbody>\n",
       "</table>\n",
       "</div><br><label><b>dtype:</b> int64</label>"
      ],
      "text/plain": [
       "0      1\n",
       "1      0\n",
       "2      0\n",
       "3      1\n",
       "4      0\n",
       "5      1\n",
       "6      1\n",
       "7      1\n",
       "8      0\n",
       "9      1\n",
       "10     0\n",
       "11     0\n",
       "12     1\n",
       "13     0\n",
       "14     0\n",
       "15     1\n",
       "16     0\n",
       "17     1\n",
       "18     1\n",
       "19     0\n",
       "20     1\n",
       "21     0\n",
       "22     0\n",
       "23     0\n",
       "24     0\n",
       "25     1\n",
       "26     0\n",
       "27     0\n",
       "28     0\n",
       "29     1\n",
       "30     0\n",
       "31     1\n",
       "32     1\n",
       "33     0\n",
       "34     0\n",
       "35     1\n",
       "36     1\n",
       "37     0\n",
       "38     0\n",
       "39     1\n",
       "40     0\n",
       "41     0\n",
       "42     0\n",
       "43     0\n",
       "44     0\n",
       "45     0\n",
       "46     1\n",
       "47     0\n",
       "48     0\n",
       "49     1\n",
       "50     1\n",
       "51     1\n",
       "52     0\n",
       "53     0\n",
       "54     1\n",
       "55     0\n",
       "56     0\n",
       "57     0\n",
       "58     1\n",
       "59     1\n",
       "60     0\n",
       "61     0\n",
       "62     0\n",
       "63     0\n",
       "64     1\n",
       "65     0\n",
       "66     0\n",
       "67     1\n",
       "68     0\n",
       "69     0\n",
       "70     1\n",
       "71     0\n",
       "72     1\n",
       "73     0\n",
       "74     0\n",
       "75     1\n",
       "76     0\n",
       "77     1\n",
       "78     1\n",
       "79     1\n",
       "80     1\n",
       "81     0\n",
       "82     1\n",
       "83     0\n",
       "84     1\n",
       "85     0\n",
       "86     0\n",
       "87     1\n",
       "88     0\n",
       "89     0\n",
       "90     0\n",
       "91     1\n",
       "92     0\n",
       "93     1\n",
       "94     1\n",
       "95     1\n",
       "96     0\n",
       "97     0\n",
       "98     0\n",
       "99     1\n",
       "100    0\n",
       "101    0\n",
       "102    0\n",
       "103    0\n",
       "104    1\n",
       "105    0\n",
       "106    1\n",
       "107    1\n",
       "108    0\n",
       "109    0\n",
       "110    0\n",
       "111    1\n",
       "112    0\n",
       "113    0\n",
       "114    0\n",
       "115    0\n",
       "116    0\n",
       "117    0\n",
       "118    0\n",
       "119    1\n",
       "120    1\n",
       "121    0\n",
       "122    1\n",
       "123    0\n",
       "124    1\n",
       "125    0\n",
       "126    0\n",
       "127    0\n",
       "128    1\n",
       "129    0\n",
       "130    1\n",
       "131    0\n",
       "132    0\n",
       "133    1\n",
       "134    0\n",
       "135    0\n",
       "136    1\n",
       "137    0\n",
       "138    0\n",
       "139    0\n",
       "140    0\n",
       "141    0\n",
       "142    1\n",
       "143    1\n",
       "144    0\n",
       "145    0\n",
       "146    1\n",
       "147    0\n",
       "148    1\n",
       "dtype: int64"
      ]
     },
     "execution_count": 49,
     "metadata": {},
     "output_type": "execute_result"
    }
   ],
   "source": [
    "y_ventanas = pd.Series(y_ventanas)\n",
    "y_ventanas = y_ventanas.map({'p':0, 'q':1})\n",
    "# y_ventanas = y_ventanas.map({'-1':0,})\n",
    "y_ventanas"
   ]
  },
  {
   "cell_type": "code",
   "execution_count": null,
   "id": "94f02b5c-7d5a-43c0-9701-1bbe8b7cce19",
   "metadata": {
    "colab": {
     "base_uri": "https://localhost:8080/"
    },
    "id": "94f02b5c-7d5a-43c0-9701-1bbe8b7cce19",
    "outputId": "8f478011-ebd1-44ba-b0fd-c793289e5037"
   },
   "outputs": [
    {
     "name": "stderr",
     "output_type": "stream",
     "text": [
      "WARNING:tsfresh.feature_extraction.settings:Dependency not available for matrix_profile, this feature will be disabled!\n",
      "Feature Extraction: 100%|██████████| 298/298 [00:54<00:00,  5.43it/s]\n"
     ]
    }
   ],
   "source": [
    "# Extraer características automáticamente\n",
    "# ventana_prueba.dtypes\n",
    "# ventanas.dtypes\n",
    "# features = extract_features(ventana_prueba, column_id=0, column_sort=1, column_value=2)\n",
    "features = extract_features(ventanas, column_id=\"id\", column_sort=\"TimeStamp\", column_kind=None, column_value=None)"
   ]
  },
  {
   "cell_type": "markdown",
   "id": "81f058bc-6897-46a1-bc7e-3708a79c417e",
   "metadata": {
    "id": "81f058bc-6897-46a1-bc7e-3708a79c417e"
   },
   "source": [
    "Hemos obtenido un total de 1566 características para cada ventana de 243 datos, es decir 783 características por canal. Ahora vamos a eliminar las características que hayan devuelvo NaN y las que sean más relevantes según tsfresh"
   ]
  },
  {
   "cell_type": "code",
   "execution_count": null,
   "id": "619dff1b-c28b-46cd-add4-5ae1f47c88d3",
   "metadata": {
    "colab": {
     "base_uri": "https://localhost:8080/",
     "height": 255
    },
    "id": "619dff1b-c28b-46cd-add4-5ae1f47c88d3",
    "outputId": "f345381f-d859-4e3a-85ed-66991119da27"
   },
   "outputs": [
    {
     "data": {
      "application/vnd.google.colaboratory.intrinsic+json": {
       "type": "dataframe",
       "variable_name": "features"
      },
      "text/html": [
       "\n",
       "  <div id=\"df-56293f88-1be2-4a74-a7f0-cf9239d0d55a\" class=\"colab-df-container\">\n",
       "    <div>\n",
       "<style scoped>\n",
       "    .dataframe tbody tr th:only-of-type {\n",
       "        vertical-align: middle;\n",
       "    }\n",
       "\n",
       "    .dataframe tbody tr th {\n",
       "        vertical-align: top;\n",
       "    }\n",
       "\n",
       "    .dataframe thead th {\n",
       "        text-align: right;\n",
       "    }\n",
       "</style>\n",
       "<table border=\"1\" class=\"dataframe\">\n",
       "  <thead>\n",
       "    <tr style=\"text-align: right;\">\n",
       "      <th></th>\n",
       "      <th>RAW_AF7__variance_larger_than_standard_deviation</th>\n",
       "      <th>RAW_AF7__has_duplicate_max</th>\n",
       "      <th>RAW_AF7__has_duplicate_min</th>\n",
       "      <th>RAW_AF7__has_duplicate</th>\n",
       "      <th>RAW_AF7__sum_values</th>\n",
       "      <th>RAW_AF7__abs_energy</th>\n",
       "      <th>RAW_AF7__mean_abs_change</th>\n",
       "      <th>RAW_AF7__mean_change</th>\n",
       "      <th>RAW_AF7__mean_second_derivative_central</th>\n",
       "      <th>RAW_AF7__median</th>\n",
       "      <th>...</th>\n",
       "      <th>RAW_AF8__fourier_entropy__bins_5</th>\n",
       "      <th>RAW_AF8__fourier_entropy__bins_10</th>\n",
       "      <th>RAW_AF8__fourier_entropy__bins_100</th>\n",
       "      <th>RAW_AF8__permutation_entropy__dimension_3__tau_1</th>\n",
       "      <th>RAW_AF8__permutation_entropy__dimension_4__tau_1</th>\n",
       "      <th>RAW_AF8__permutation_entropy__dimension_5__tau_1</th>\n",
       "      <th>RAW_AF8__permutation_entropy__dimension_6__tau_1</th>\n",
       "      <th>RAW_AF8__permutation_entropy__dimension_7__tau_1</th>\n",
       "      <th>RAW_AF8__query_similarity_count__query_None__threshold_0.0</th>\n",
       "      <th>RAW_AF8__mean_n_absolute_max__number_of_maxima_7</th>\n",
       "    </tr>\n",
       "  </thead>\n",
       "  <tbody>\n",
       "    <tr>\n",
       "      <th>0</th>\n",
       "      <td>1.0</td>\n",
       "      <td>0.0</td>\n",
       "      <td>0.0</td>\n",
       "      <td>1.0</td>\n",
       "      <td>194393.78125</td>\n",
       "      <td>155663600.0</td>\n",
       "      <td>26.073929</td>\n",
       "      <td>-0.236430</td>\n",
       "      <td>0.028423</td>\n",
       "      <td>800.219788</td>\n",
       "      <td>...</td>\n",
       "      <td>0.08365</td>\n",
       "      <td>0.08365</td>\n",
       "      <td>0.304324</td>\n",
       "      <td>1.675938</td>\n",
       "      <td>2.688774</td>\n",
       "      <td>3.294045</td>\n",
       "      <td>4.068195</td>\n",
       "      <td>4.687757</td>\n",
       "      <td>NaN</td>\n",
       "      <td>844.311890</td>\n",
       "    </tr>\n",
       "    <tr>\n",
       "      <th>1</th>\n",
       "      <td>1.0</td>\n",
       "      <td>0.0</td>\n",
       "      <td>1.0</td>\n",
       "      <td>1.0</td>\n",
       "      <td>191290.81250</td>\n",
       "      <td>150802240.0</td>\n",
       "      <td>27.137865</td>\n",
       "      <td>0.131535</td>\n",
       "      <td>0.034274</td>\n",
       "      <td>789.340637</td>\n",
       "      <td>...</td>\n",
       "      <td>0.08365</td>\n",
       "      <td>0.08365</td>\n",
       "      <td>0.611672</td>\n",
       "      <td>1.686207</td>\n",
       "      <td>2.670456</td>\n",
       "      <td>3.463449</td>\n",
       "      <td>4.325148</td>\n",
       "      <td>4.934251</td>\n",
       "      <td>NaN</td>\n",
       "      <td>842.124573</td>\n",
       "    </tr>\n",
       "    <tr>\n",
       "      <th>2</th>\n",
       "      <td>1.0</td>\n",
       "      <td>0.0</td>\n",
       "      <td>0.0</td>\n",
       "      <td>1.0</td>\n",
       "      <td>192309.40625</td>\n",
       "      <td>152350320.0</td>\n",
       "      <td>27.967031</td>\n",
       "      <td>-0.261405</td>\n",
       "      <td>0.014211</td>\n",
       "      <td>790.549438</td>\n",
       "      <td>...</td>\n",
       "      <td>0.08365</td>\n",
       "      <td>0.08365</td>\n",
       "      <td>0.839341</td>\n",
       "      <td>1.675992</td>\n",
       "      <td>2.624780</td>\n",
       "      <td>3.306582</td>\n",
       "      <td>4.156852</td>\n",
       "      <td>4.772270</td>\n",
       "      <td>NaN</td>\n",
       "      <td>841.779175</td>\n",
       "    </tr>\n",
       "    <tr>\n",
       "      <th>3</th>\n",
       "      <td>1.0</td>\n",
       "      <td>0.0</td>\n",
       "      <td>0.0</td>\n",
       "      <td>1.0</td>\n",
       "      <td>192172.40625</td>\n",
       "      <td>152136944.0</td>\n",
       "      <td>28.131868</td>\n",
       "      <td>0.213120</td>\n",
       "      <td>0.005016</td>\n",
       "      <td>791.758240</td>\n",
       "      <td>...</td>\n",
       "      <td>0.08365</td>\n",
       "      <td>0.08365</td>\n",
       "      <td>0.607383</td>\n",
       "      <td>1.687646</td>\n",
       "      <td>2.653567</td>\n",
       "      <td>3.334649</td>\n",
       "      <td>4.136673</td>\n",
       "      <td>4.782713</td>\n",
       "      <td>NaN</td>\n",
       "      <td>843.218262</td>\n",
       "    </tr>\n",
       "    <tr>\n",
       "      <th>4</th>\n",
       "      <td>1.0</td>\n",
       "      <td>0.0</td>\n",
       "      <td>0.0</td>\n",
       "      <td>1.0</td>\n",
       "      <td>192204.25000</td>\n",
       "      <td>152178976.0</td>\n",
       "      <td>27.634033</td>\n",
       "      <td>-0.201465</td>\n",
       "      <td>-0.018391</td>\n",
       "      <td>790.952393</td>\n",
       "      <td>...</td>\n",
       "      <td>0.08365</td>\n",
       "      <td>0.08365</td>\n",
       "      <td>0.536429</td>\n",
       "      <td>1.696871</td>\n",
       "      <td>2.752773</td>\n",
       "      <td>3.536920</td>\n",
       "      <td>4.329207</td>\n",
       "      <td>4.872483</td>\n",
       "      <td>NaN</td>\n",
       "      <td>845.060242</td>\n",
       "    </tr>\n",
       "  </tbody>\n",
       "</table>\n",
       "<p>5 rows × 1566 columns</p>\n",
       "</div>\n",
       "    <div class=\"colab-df-buttons\">\n",
       "\n",
       "  <div class=\"colab-df-container\">\n",
       "    <button class=\"colab-df-convert\" onclick=\"convertToInteractive('df-56293f88-1be2-4a74-a7f0-cf9239d0d55a')\"\n",
       "            title=\"Convert this dataframe to an interactive table.\"\n",
       "            style=\"display:none;\">\n",
       "\n",
       "  <svg xmlns=\"http://www.w3.org/2000/svg\" height=\"24px\" viewBox=\"0 -960 960 960\">\n",
       "    <path d=\"M120-120v-720h720v720H120Zm60-500h600v-160H180v160Zm220 220h160v-160H400v160Zm0 220h160v-160H400v160ZM180-400h160v-160H180v160Zm440 0h160v-160H620v160ZM180-180h160v-160H180v160Zm440 0h160v-160H620v160Z\"/>\n",
       "  </svg>\n",
       "    </button>\n",
       "\n",
       "  <style>\n",
       "    .colab-df-container {\n",
       "      display:flex;\n",
       "      gap: 12px;\n",
       "    }\n",
       "\n",
       "    .colab-df-convert {\n",
       "      background-color: #E8F0FE;\n",
       "      border: none;\n",
       "      border-radius: 50%;\n",
       "      cursor: pointer;\n",
       "      display: none;\n",
       "      fill: #1967D2;\n",
       "      height: 32px;\n",
       "      padding: 0 0 0 0;\n",
       "      width: 32px;\n",
       "    }\n",
       "\n",
       "    .colab-df-convert:hover {\n",
       "      background-color: #E2EBFA;\n",
       "      box-shadow: 0px 1px 2px rgba(60, 64, 67, 0.3), 0px 1px 3px 1px rgba(60, 64, 67, 0.15);\n",
       "      fill: #174EA6;\n",
       "    }\n",
       "\n",
       "    .colab-df-buttons div {\n",
       "      margin-bottom: 4px;\n",
       "    }\n",
       "\n",
       "    [theme=dark] .colab-df-convert {\n",
       "      background-color: #3B4455;\n",
       "      fill: #D2E3FC;\n",
       "    }\n",
       "\n",
       "    [theme=dark] .colab-df-convert:hover {\n",
       "      background-color: #434B5C;\n",
       "      box-shadow: 0px 1px 3px 1px rgba(0, 0, 0, 0.15);\n",
       "      filter: drop-shadow(0px 1px 2px rgba(0, 0, 0, 0.3));\n",
       "      fill: #FFFFFF;\n",
       "    }\n",
       "  </style>\n",
       "\n",
       "    <script>\n",
       "      const buttonEl =\n",
       "        document.querySelector('#df-56293f88-1be2-4a74-a7f0-cf9239d0d55a button.colab-df-convert');\n",
       "      buttonEl.style.display =\n",
       "        google.colab.kernel.accessAllowed ? 'block' : 'none';\n",
       "\n",
       "      async function convertToInteractive(key) {\n",
       "        const element = document.querySelector('#df-56293f88-1be2-4a74-a7f0-cf9239d0d55a');\n",
       "        const dataTable =\n",
       "          await google.colab.kernel.invokeFunction('convertToInteractive',\n",
       "                                                    [key], {});\n",
       "        if (!dataTable) return;\n",
       "\n",
       "        const docLinkHtml = 'Like what you see? Visit the ' +\n",
       "          '<a target=\"_blank\" href=https://colab.research.google.com/notebooks/data_table.ipynb>data table notebook</a>'\n",
       "          + ' to learn more about interactive tables.';\n",
       "        element.innerHTML = '';\n",
       "        dataTable['output_type'] = 'display_data';\n",
       "        await google.colab.output.renderOutput(dataTable, element);\n",
       "        const docLink = document.createElement('div');\n",
       "        docLink.innerHTML = docLinkHtml;\n",
       "        element.appendChild(docLink);\n",
       "      }\n",
       "    </script>\n",
       "  </div>\n",
       "\n",
       "\n",
       "<div id=\"df-a0df001e-6b3e-4033-b921-e3f48c8adf6a\">\n",
       "  <button class=\"colab-df-quickchart\" onclick=\"quickchart('df-a0df001e-6b3e-4033-b921-e3f48c8adf6a')\"\n",
       "            title=\"Suggest charts\"\n",
       "            style=\"display:none;\">\n",
       "\n",
       "<svg xmlns=\"http://www.w3.org/2000/svg\" height=\"24px\"viewBox=\"0 0 24 24\"\n",
       "     width=\"24px\">\n",
       "    <g>\n",
       "        <path d=\"M19 3H5c-1.1 0-2 .9-2 2v14c0 1.1.9 2 2 2h14c1.1 0 2-.9 2-2V5c0-1.1-.9-2-2-2zM9 17H7v-7h2v7zm4 0h-2V7h2v10zm4 0h-2v-4h2v4z\"/>\n",
       "    </g>\n",
       "</svg>\n",
       "  </button>\n",
       "\n",
       "<style>\n",
       "  .colab-df-quickchart {\n",
       "      --bg-color: #E8F0FE;\n",
       "      --fill-color: #1967D2;\n",
       "      --hover-bg-color: #E2EBFA;\n",
       "      --hover-fill-color: #174EA6;\n",
       "      --disabled-fill-color: #AAA;\n",
       "      --disabled-bg-color: #DDD;\n",
       "  }\n",
       "\n",
       "  [theme=dark] .colab-df-quickchart {\n",
       "      --bg-color: #3B4455;\n",
       "      --fill-color: #D2E3FC;\n",
       "      --hover-bg-color: #434B5C;\n",
       "      --hover-fill-color: #FFFFFF;\n",
       "      --disabled-bg-color: #3B4455;\n",
       "      --disabled-fill-color: #666;\n",
       "  }\n",
       "\n",
       "  .colab-df-quickchart {\n",
       "    background-color: var(--bg-color);\n",
       "    border: none;\n",
       "    border-radius: 50%;\n",
       "    cursor: pointer;\n",
       "    display: none;\n",
       "    fill: var(--fill-color);\n",
       "    height: 32px;\n",
       "    padding: 0;\n",
       "    width: 32px;\n",
       "  }\n",
       "\n",
       "  .colab-df-quickchart:hover {\n",
       "    background-color: var(--hover-bg-color);\n",
       "    box-shadow: 0 1px 2px rgba(60, 64, 67, 0.3), 0 1px 3px 1px rgba(60, 64, 67, 0.15);\n",
       "    fill: var(--button-hover-fill-color);\n",
       "  }\n",
       "\n",
       "  .colab-df-quickchart-complete:disabled,\n",
       "  .colab-df-quickchart-complete:disabled:hover {\n",
       "    background-color: var(--disabled-bg-color);\n",
       "    fill: var(--disabled-fill-color);\n",
       "    box-shadow: none;\n",
       "  }\n",
       "\n",
       "  .colab-df-spinner {\n",
       "    border: 2px solid var(--fill-color);\n",
       "    border-color: transparent;\n",
       "    border-bottom-color: var(--fill-color);\n",
       "    animation:\n",
       "      spin 1s steps(1) infinite;\n",
       "  }\n",
       "\n",
       "  @keyframes spin {\n",
       "    0% {\n",
       "      border-color: transparent;\n",
       "      border-bottom-color: var(--fill-color);\n",
       "      border-left-color: var(--fill-color);\n",
       "    }\n",
       "    20% {\n",
       "      border-color: transparent;\n",
       "      border-left-color: var(--fill-color);\n",
       "      border-top-color: var(--fill-color);\n",
       "    }\n",
       "    30% {\n",
       "      border-color: transparent;\n",
       "      border-left-color: var(--fill-color);\n",
       "      border-top-color: var(--fill-color);\n",
       "      border-right-color: var(--fill-color);\n",
       "    }\n",
       "    40% {\n",
       "      border-color: transparent;\n",
       "      border-right-color: var(--fill-color);\n",
       "      border-top-color: var(--fill-color);\n",
       "    }\n",
       "    60% {\n",
       "      border-color: transparent;\n",
       "      border-right-color: var(--fill-color);\n",
       "    }\n",
       "    80% {\n",
       "      border-color: transparent;\n",
       "      border-right-color: var(--fill-color);\n",
       "      border-bottom-color: var(--fill-color);\n",
       "    }\n",
       "    90% {\n",
       "      border-color: transparent;\n",
       "      border-bottom-color: var(--fill-color);\n",
       "    }\n",
       "  }\n",
       "</style>\n",
       "\n",
       "  <script>\n",
       "    async function quickchart(key) {\n",
       "      const quickchartButtonEl =\n",
       "        document.querySelector('#' + key + ' button');\n",
       "      quickchartButtonEl.disabled = true;  // To prevent multiple clicks.\n",
       "      quickchartButtonEl.classList.add('colab-df-spinner');\n",
       "      try {\n",
       "        const charts = await google.colab.kernel.invokeFunction(\n",
       "            'suggestCharts', [key], {});\n",
       "      } catch (error) {\n",
       "        console.error('Error during call to suggestCharts:', error);\n",
       "      }\n",
       "      quickchartButtonEl.classList.remove('colab-df-spinner');\n",
       "      quickchartButtonEl.classList.add('colab-df-quickchart-complete');\n",
       "    }\n",
       "    (() => {\n",
       "      let quickchartButtonEl =\n",
       "        document.querySelector('#df-a0df001e-6b3e-4033-b921-e3f48c8adf6a button');\n",
       "      quickchartButtonEl.style.display =\n",
       "        google.colab.kernel.accessAllowed ? 'block' : 'none';\n",
       "    })();\n",
       "  </script>\n",
       "</div>\n",
       "\n",
       "    </div>\n",
       "  </div>\n"
      ],
      "text/plain": [
       "   RAW_AF7__variance_larger_than_standard_deviation  RAW_AF7__has_duplicate_max  \\\n",
       "0                                               1.0                         0.0   \n",
       "1                                               1.0                         0.0   \n",
       "2                                               1.0                         0.0   \n",
       "3                                               1.0                         0.0   \n",
       "4                                               1.0                         0.0   \n",
       "\n",
       "   RAW_AF7__has_duplicate_min  RAW_AF7__has_duplicate  RAW_AF7__sum_values  RAW_AF7__abs_energy  \\\n",
       "0                         0.0                     1.0         194393.78125          155663600.0   \n",
       "1                         1.0                     1.0         191290.81250          150802240.0   \n",
       "2                         0.0                     1.0         192309.40625          152350320.0   \n",
       "3                         0.0                     1.0         192172.40625          152136944.0   \n",
       "4                         0.0                     1.0         192204.25000          152178976.0   \n",
       "\n",
       "   RAW_AF7__mean_abs_change  RAW_AF7__mean_change  RAW_AF7__mean_second_derivative_central  \\\n",
       "0                 26.073929             -0.236430                                 0.028423   \n",
       "1                 27.137865              0.131535                                 0.034274   \n",
       "2                 27.967031             -0.261405                                 0.014211   \n",
       "3                 28.131868              0.213120                                 0.005016   \n",
       "4                 27.634033             -0.201465                                -0.018391   \n",
       "\n",
       "   RAW_AF7__median  ...  RAW_AF8__fourier_entropy__bins_5  RAW_AF8__fourier_entropy__bins_10  \\\n",
       "0       800.219788  ...                           0.08365                            0.08365   \n",
       "1       789.340637  ...                           0.08365                            0.08365   \n",
       "2       790.549438  ...                           0.08365                            0.08365   \n",
       "3       791.758240  ...                           0.08365                            0.08365   \n",
       "4       790.952393  ...                           0.08365                            0.08365   \n",
       "\n",
       "   RAW_AF8__fourier_entropy__bins_100  RAW_AF8__permutation_entropy__dimension_3__tau_1  \\\n",
       "0                            0.304324                                          1.675938   \n",
       "1                            0.611672                                          1.686207   \n",
       "2                            0.839341                                          1.675992   \n",
       "3                            0.607383                                          1.687646   \n",
       "4                            0.536429                                          1.696871   \n",
       "\n",
       "   RAW_AF8__permutation_entropy__dimension_4__tau_1  \\\n",
       "0                                          2.688774   \n",
       "1                                          2.670456   \n",
       "2                                          2.624780   \n",
       "3                                          2.653567   \n",
       "4                                          2.752773   \n",
       "\n",
       "   RAW_AF8__permutation_entropy__dimension_5__tau_1  \\\n",
       "0                                          3.294045   \n",
       "1                                          3.463449   \n",
       "2                                          3.306582   \n",
       "3                                          3.334649   \n",
       "4                                          3.536920   \n",
       "\n",
       "   RAW_AF8__permutation_entropy__dimension_6__tau_1  \\\n",
       "0                                          4.068195   \n",
       "1                                          4.325148   \n",
       "2                                          4.156852   \n",
       "3                                          4.136673   \n",
       "4                                          4.329207   \n",
       "\n",
       "   RAW_AF8__permutation_entropy__dimension_7__tau_1  \\\n",
       "0                                          4.687757   \n",
       "1                                          4.934251   \n",
       "2                                          4.772270   \n",
       "3                                          4.782713   \n",
       "4                                          4.872483   \n",
       "\n",
       "   RAW_AF8__query_similarity_count__query_None__threshold_0.0  \\\n",
       "0                                                NaN            \n",
       "1                                                NaN            \n",
       "2                                                NaN            \n",
       "3                                                NaN            \n",
       "4                                                NaN            \n",
       "\n",
       "   RAW_AF8__mean_n_absolute_max__number_of_maxima_7  \n",
       "0                                        844.311890  \n",
       "1                                        842.124573  \n",
       "2                                        841.779175  \n",
       "3                                        843.218262  \n",
       "4                                        845.060242  \n",
       "\n",
       "[5 rows x 1566 columns]"
      ]
     },
     "execution_count": 51,
     "metadata": {},
     "output_type": "execute_result"
    }
   ],
   "source": [
    "features.head()"
   ]
  },
  {
   "cell_type": "code",
   "execution_count": null,
   "id": "96ef1bd0-fbab-4837-9fd1-52bc724c5389",
   "metadata": {
    "colab": {
     "base_uri": "https://localhost:8080/"
    },
    "id": "96ef1bd0-fbab-4837-9fd1-52bc724c5389",
    "outputId": "36780fd7-96c2-424d-b35c-abb92c602ae7"
   },
   "outputs": [
    {
     "name": "stderr",
     "output_type": "stream",
     "text": [
      "/usr/local/lib/python3.10/dist-packages/tsfresh/utilities/dataframe_functions.py:198: RuntimeWarning: The columns ['RAW_AF7__query_similarity_count__query_None__threshold_0.0'\n",
      " 'RAW_AF8__query_similarity_count__query_None__threshold_0.0'] did not have any finite values. Filling with zeros.\n",
      "  warnings.warn(\n"
     ]
    },
    {
     "name": "stdout",
     "output_type": "stream",
     "text": [
      "(149, 1566)\n",
      "(149, 1566)\n"
     ]
    }
   ],
   "source": [
    "\n",
    "\n",
    "print(features.shape)\n",
    "# Eliminar NaN\n",
    "impute(features)\n",
    "print(features.shape)\n",
    "\n",
    "#tecla pulsada\n",
    "# y = single_local_data['Tecla elegida'][0]\n",
    "# pd_y= pd.DataFrame(y, index=0)\n",
    "# features_filtered = select_features(features, y_ventanas)\n",
    "\n",
    "# features_filtered.shape"
   ]
  },
  {
   "cell_type": "markdown",
   "id": "d0a40127-d7d6-4d17-8dcc-8563fa541b33",
   "metadata": {
    "id": "d0a40127-d7d6-4d17-8dcc-8563fa541b33"
   },
   "source": [
    "## Modelos"
   ]
  },
  {
   "cell_type": "markdown",
   "id": "c969fc96-795a-4035-b8bf-23debe2a5e26",
   "metadata": {
    "id": "c969fc96-795a-4035-b8bf-23debe2a5e26"
   },
   "source": [
    "No vamos a mezclar los datos debido a la naturaleza temporal de estos"
   ]
  },
  {
   "cell_type": "code",
   "execution_count": null,
   "id": "fcb3340e-67c4-4f02-9afd-e0dca33c9042",
   "metadata": {
    "id": "fcb3340e-67c4-4f02-9afd-e0dca33c9042"
   },
   "outputs": [],
   "source": [
    "X_train, X_test, y_train, y_test = train_test_split(features, y_ventanas, test_size=0.2, random_state=random_seed, shuffle=False)"
   ]
  },
  {
   "cell_type": "code",
   "execution_count": null,
   "id": "ae567271-8c59-430d-8568-df3564d8e49e",
   "metadata": {
    "colab": {
     "base_uri": "https://localhost:8080/"
    },
    "id": "ae567271-8c59-430d-8568-df3564d8e49e",
    "outputId": "7cbd1c84-adce-42a3-dee6-e5fe7d54e264"
   },
   "outputs": [
    {
     "name": "stdout",
     "output_type": "stream",
     "text": [
      "Num Datos: 149\n",
      "Datos (array([0, 1]), array([91, 58]))\n",
      "Entrenamiento (array([0, 1]), array([73, 46]))\n",
      "Test (array([0, 1]), array([18, 12]))\n"
     ]
    }
   ],
   "source": [
    "print(\"Num Datos:\", y_ventanas.count())\n",
    "print(\"Datos\", np.unique(y_ventanas, return_counts=True))\n",
    "print(\"Entrenamiento\", np.unique(y_train, return_counts=True))\n",
    "print(\"Test\", np.unique(y_test, return_counts=True))"
   ]
  },
  {
   "cell_type": "markdown",
   "id": "42147cf2-3acd-4292-8371-6b7f04d1d796",
   "metadata": {
    "id": "42147cf2-3acd-4292-8371-6b7f04d1d796"
   },
   "source": [
    "### Random Forest"
   ]
  },
  {
   "cell_type": "code",
   "execution_count": null,
   "id": "8d1efcfa-17bd-445e-9e5f-959b80302d68",
   "metadata": {
    "id": "8d1efcfa-17bd-445e-9e5f-959b80302d68"
   },
   "outputs": [],
   "source": [
    "from sklearn.ensemble import RandomForestClassifier\n",
    "from sklearn.metrics import accuracy_score\n",
    "from sklearn.metrics import precision_score\n",
    "from sklearn.metrics import f1_score\n",
    "from sklearn.metrics import recall_score\n",
    "\n",
    "# Evaluación del modelo\n",
    "def model_metric(y_test, y_pref, print_all = False):\n",
    "    accuracy = accuracy_score(y_test, y_pref)\n",
    "    precision = precision_score(y_test, y_pref, average='macro')\n",
    "    recall = recall_score(y_test, y_pref, average='macro')\n",
    "    f1 = f1_score(y_test, y_pref, average='macro')\n",
    "\n",
    "    if print_all:\n",
    "        print(f\"Random Forest Accuracy: {accuracy}\")\n",
    "        print(f\"Random Forest Precision: {precision}\")\n",
    "        print(f\"Random Forest Recall: {recall}\")\n",
    "        print(f\"Random Forest F1-Score: {f1}\")\n",
    "\n",
    "    return accuracy, precision , recall, f1"
   ]
  },
  {
   "cell_type": "markdown",
   "id": "56efcb16-c641-417b-84ce-ad6cfc5cdf80",
   "metadata": {
    "id": "56efcb16-c641-417b-84ce-ad6cfc5cdf80"
   },
   "source": [
    "Vamos a probar GridSearch y Validación cruzada"
   ]
  },
  {
   "cell_type": "code",
   "execution_count": null,
   "id": "6743f485-2896-4eec-a79a-7d365605dd8b",
   "metadata": {
    "id": "6743f485-2896-4eec-a79a-7d365605dd8b"
   },
   "outputs": [],
   "source": [
    "from sklearn.model_selection import GridSearchCV\n",
    "\n",
    "def rf(X_train, X_test, y_train, y_test):\n",
    "    print(\"Random Forest ----------------\")\n",
    "    # Definición de los parámetros a probar\n",
    "    rf_param_grid = {\n",
    "        'n_estimators': [50, 100, 200, 400],\n",
    "        'max_depth': [None, 10, 20, 30],\n",
    "        'min_samples_split': [2, 5, 10]\n",
    "    }\n",
    "\n",
    "    # Configurar GridSearch con validación cruzada de 5 folds\n",
    "    grid_search = GridSearchCV(estimator=RandomForestClassifier(random_state=random_seed), param_grid=rf_param_grid, cv=5, scoring='accuracy', n_jobs=-1)\n",
    "\n",
    "    # Ajustar el modelo a los datos de entrenamiento\n",
    "    grid_search.fit(X_train, y_train)\n",
    "\n",
    "    # Mejor combinación de hiperparámetros\n",
    "    print(f\"Best parameters: {grid_search.best_params_}\")\n",
    "\n",
    "    # Evaluar el modelo con los mejores parámetros\n",
    "    best_model = grid_search.best_estimator_\n",
    "    y_pred_best = best_model.predict(X_test)\n",
    "    # accuracy_best = accuracy_score(y_test, y_pred_best)\n",
    "    # print(f\"Accuracy with best parameters: {accuracy_best}\")\n",
    "    # print(classification_report(y_test, y_pred_best))\n",
    "    return model_metric(y_test, y_pred_best, True)"
   ]
  },
  {
   "cell_type": "code",
   "execution_count": null,
   "id": "6a75ed27-f8b1-46f0-9e35-8cfd5cd86158",
   "metadata": {
    "colab": {
     "base_uri": "https://localhost:8080/"
    },
    "id": "6a75ed27-f8b1-46f0-9e35-8cfd5cd86158",
    "outputId": "62df5a04-bc7c-4a11-c834-0627774c6e5a"
   },
   "outputs": [
    {
     "name": "stdout",
     "output_type": "stream",
     "text": [
      "Random Forest ----------------\n",
      "Best parameters: {'max_depth': None, 'min_samples_split': 2, 'n_estimators': 200}\n",
      "Random Forest Accuracy: 0.6666666666666666\n",
      "Random Forest Precision: 0.8214285714285714\n",
      "Random Forest Recall: 0.5833333333333334\n",
      "Random Forest F1-Score: 0.5341614906832298\n"
     ]
    }
   ],
   "source": [
    "metrics = rf(X_train, X_test, y_train, y_test)"
   ]
  },
  {
   "cell_type": "code",
   "execution_count": null,
   "id": "0636ea17-1a03-4205-810b-ef00b265717c",
   "metadata": {
    "id": "0636ea17-1a03-4205-810b-ef00b265717c"
   },
   "outputs": [],
   "source": []
  },
  {
   "cell_type": "code",
   "execution_count": null,
   "id": "907138a5-9fc6-4c32-ac28-07d0b9cad440",
   "metadata": {
    "id": "907138a5-9fc6-4c32-ac28-07d0b9cad440"
   },
   "outputs": [],
   "source": [
    "# grid_search.best_score_"
   ]
  },
  {
   "cell_type": "code",
   "execution_count": null,
   "id": "c66c8f07-1293-4c10-805b-9b523524b01c",
   "metadata": {
    "id": "c66c8f07-1293-4c10-805b-9b523524b01c"
   },
   "outputs": [],
   "source": [
    "# scores = cross_val_score(best_model, X_train, y_train, cv=5, scoring='accuracy')\n",
    "# print(f\"Cross-validation scores: {scores}\")\n",
    "# print(f\"Mean accuracy: {scores.mean()}\")"
   ]
  },
  {
   "cell_type": "markdown",
   "id": "5571e68a-62cb-4fa7-9e58-1f4b12e7ae7e",
   "metadata": {
    "id": "5571e68a-62cb-4fa7-9e58-1f4b12e7ae7e"
   },
   "source": [
    "### SVM"
   ]
  },
  {
   "cell_type": "code",
   "execution_count": null,
   "id": "5cf1db75-602a-435f-85f9-c4ee9c442329",
   "metadata": {
    "id": "5cf1db75-602a-435f-85f9-c4ee9c442329"
   },
   "outputs": [],
   "source": [
    "from sklearn.svm import SVC\n",
    "\n",
    "def svc(X_train, X_test, y_train, y_test):\n",
    "    print(\"SVM (SVC) ----------------\")\n",
    "\n",
    "    # Definición de los parámetros #288 combinaciones x 5 fold = 1440 modelos\n",
    "    param_grid = {\n",
    "        'C': [0.1, 1, 10, 100],                # Valores de regularización\n",
    "        'kernel': ['linear', 'poly', 'rbf', 'sigmoid'],  # Diferentes tipos de kernel\n",
    "        'gamma': ['scale', 'auto', 0.001, 0.01, 0.1, 1], # Coeficiente gamma para kernels no lineales\n",
    "        'degree': [2, 3, 4],                   # Grado del polinomio (solo para kernel 'poly')\n",
    "    }\n",
    "\n",
    "    # param_grid = {\n",
    "    #     'kernel': ['linear', 'poly', 'rbf', 'sigmoid'],  # Diferentes tipos de kernel\n",
    "    # }\n",
    "\n",
    "    # Definir el modelo SVM (SVC)\n",
    "    svm_model = SVC()\n",
    "\n",
    "    # Configurar el GridSearchCV\n",
    "    grid_search = GridSearchCV(estimator=svm_model,\n",
    "                               param_grid=param_grid,\n",
    "                               scoring='accuracy',\n",
    "                               cv=5,  # Validación cruzada\n",
    "                               verbose=1,  # Mostrar el progreso\n",
    "                               n_jobs=-1)  # Usar todos los núcleos disponibles\n",
    "\n",
    "    # Ajustar el modelo a los datos de entrenamiento (X_train, y_train)\n",
    "    grid_search.fit(X_train, y_train)\n",
    "\n",
    "    # Imprimir los mejores hiperparámetros encontrados\n",
    "    print(\"Best parameters found: \", grid_search.best_params_)\n",
    "\n",
    "    # Evaluación del modelo\n",
    "    best_model = grid_search.best_estimator_\n",
    "    y_pred_best = best_model.predict(X_test)\n",
    "    return model_metric(y_test, y_pred_best, True)\n",
    "\n"
   ]
  },
  {
   "cell_type": "code",
   "execution_count": null,
   "id": "cbac89e4-25b8-42bc-abdb-7b589667567f",
   "metadata": {
    "colab": {
     "background_save": true,
     "base_uri": "https://localhost:8080/"
    },
    "id": "cbac89e4-25b8-42bc-abdb-7b589667567f",
    "outputId": "81d5e3e1-a9f5-459f-8eb5-32759d95c148"
   },
   "outputs": [
    {
     "name": "stdout",
     "output_type": "stream",
     "text": [
      "SVM (SVC) ----------------\n",
      "Fitting 5 folds for each of 288 candidates, totalling 1440 fits\n"
     ]
    }
   ],
   "source": [
    "#ParamGrid simplificado (demasiada computación)\n",
    "metrics = svc(X_train, X_test, y_train, y_test)\n"
   ]
  },
  {
   "cell_type": "code",
   "execution_count": null,
   "id": "2c8b96e5-154c-49b9-9d12-eaae1b3f6a02",
   "metadata": {
    "id": "2c8b96e5-154c-49b9-9d12-eaae1b3f6a02"
   },
   "outputs": [],
   "source": [
    "# # Evaluar el modelo usando varias métricas\n",
    "# print(classification_report(y_test, y_pred_svm))\n",
    "\n",
    "# # Matriz de confusión\n",
    "# print(confusion_matrix(y_test, y_pred_svm))\n",
    "# print(y_pred_rf)\n"
   ]
  },
  {
   "cell_type": "code",
   "execution_count": null,
   "id": "c2fa4fc8-1d61-4cdd-98d9-57c3b3a03699",
   "metadata": {
    "id": "c2fa4fc8-1d61-4cdd-98d9-57c3b3a03699"
   },
   "outputs": [],
   "source": []
  },
  {
   "cell_type": "markdown",
   "id": "b88c1bd1-1fe3-4537-9e3a-f487716ae8e5",
   "metadata": {
    "id": "b88c1bd1-1fe3-4537-9e3a-f487716ae8e5"
   },
   "source": [
    "### Xgboost"
   ]
  },
  {
   "cell_type": "code",
   "execution_count": null,
   "id": "6e06f617-90d7-4a5e-86a7-3dad7a4a0768",
   "metadata": {
    "id": "6e06f617-90d7-4a5e-86a7-3dad7a4a0768"
   },
   "outputs": [],
   "source": [
    "from xgboost import XGBClassifier\n",
    "\n",
    "def xgb(X_train, X_test, y_train, y_test):\n",
    "    param_grid = {\n",
    "        'n_estimators': [50, 100, 200],\n",
    "        'max_depth': [3, 5, 7],\n",
    "        'learning_rate': [0.01, 0.1, 0.2],\n",
    "        'subsample': [0.8, 1],\n",
    "        'colsample_bytree': [0.8, 1],\n",
    "        'gamma': [0, 0.1, 0.2]\n",
    "    }\n",
    "\n",
    "    # param_grid = {\n",
    "    #     'n_estimators': [50]\n",
    "    # }\n",
    "\n",
    "    # Crear un modelo XGBoost\n",
    "    xgb_model = xgb.XGBClassifier(use_label_encoder=False, eval_metric='mlogloss', random_state=42)\n",
    "\n",
    "    # Configurar el GridSearchCV\n",
    "    grid_search = GridSearchCV(estimator=xgb_model,\n",
    "                               param_grid=param_grid,\n",
    "                               scoring='accuracy',\n",
    "                               cv=5,\n",
    "                               verbose=1,\n",
    "                               n_jobs=-1)\n",
    "\n",
    "    # Entrenar el modelo con Grid Search\n",
    "    grid_search.fit(X_train, y_train)\n",
    "\n",
    "    # Imprimir los mejores hiperparámetros encontrados\n",
    "    print(\"Best parameters found: \", grid_search.best_params_)\n",
    "\n",
    "    # Evaluación del modelo\n",
    "    best_model = grid_search.best_estimator_\n",
    "    y_pred_best = best_model.predict(X_test)\n",
    "    return model_metric(y_test, y_pred_best, True)"
   ]
  },
  {
   "cell_type": "code",
   "execution_count": null,
   "id": "b1b8b9a5-39c7-4783-9489-b357efb51c56",
   "metadata": {
    "id": "b1b8b9a5-39c7-4783-9489-b357efb51c56"
   },
   "outputs": [],
   "source": [
    "metrics = xgb(X_train, X_test, y_train, y_test)\n"
   ]
  },
  {
   "cell_type": "markdown",
   "id": "943b99cc-ef63-4046-9512-e772863e3ea2",
   "metadata": {
    "id": "943b99cc-ef63-4046-9512-e772863e3ea2"
   },
   "source": [
    "Otros modelos.... (pendiente - libreria lightgbm)"
   ]
  },
  {
   "cell_type": "markdown",
   "id": "2c1b5882-6fca-4926-b1aa-c9ead4c507f4",
   "metadata": {
    "id": "2c1b5882-6fca-4926-b1aa-c9ead4c507f4"
   },
   "source": [
    "## Resumen del desarrollo, estadísticas y conclusiones"
   ]
  },
  {
   "cell_type": "markdown",
   "id": "defa8638-79f4-487d-b910-68a18ded0f5e",
   "metadata": {
    "id": "defa8638-79f4-487d-b910-68a18ded0f5e"
   },
   "source": [
    "A partir de aqui realizaremos el desarrollo sobre el resto de archivos de manera automática hasta obtener todas las métricas."
   ]
  },
  {
   "cell_type": "code",
   "execution_count": null,
   "id": "ff68c23f-0897-4d3c-b4a6-a87255b0df5a",
   "metadata": {
    "id": "ff68c23f-0897-4d3c-b4a6-a87255b0df5a"
   },
   "outputs": [],
   "source": [
    "#Estadísticas de los datos de cada fichero\n",
    "balance_datos = pd.DataFrame(columns=['archivo_local', 'archivo_muse', 'n_respuestas_inicial', 'n_respuestas_final', 'balance clase 0(p)', 'balance clase 0(p)(train)', 'balance clase 0(p)(test)'])\n",
    "#Para un archivo evaluación de las métricas para cada modelo\n",
    "num_modelos = 4\n",
    "num_metricas = 4\n",
    "all_metrics = np.zeros((len(archivos_local), num_modelos, num_metricas))\n",
    "resultado_metricas = pd.DataFrame(columns=['acurr', 'f1', 'precision', 'support'])"
   ]
  },
  {
   "cell_type": "markdown",
   "id": "003c2d54-797d-403a-82a2-1e801cade6ee",
   "metadata": {
    "id": "003c2d54-797d-403a-82a2-1e801cade6ee"
   },
   "source": [
    "Ejecución de todos los ficheros de principio a fin."
   ]
  },
  {
   "cell_type": "code",
   "execution_count": null,
   "id": "MlqanZfctc2j",
   "metadata": {
    "id": "MlqanZfctc2j"
   },
   "outputs": [],
   "source": []
  },
  {
   "cell_type": "code",
   "execution_count": null,
   "id": "d691a6e8-5d6b-4181-859e-ac1b54d8313b",
   "metadata": {
    "id": "d691a6e8-5d6b-4181-859e-ac1b54d8313b"
   },
   "outputs": [],
   "source": [
    "os.chdir(\"..\")\n",
    "shuffle_data = False\n",
    "ms_prev = 800\n",
    "ms_post = 200\n",
    "\n",
    "\n",
    "for idx, (local_file,muse_file) in enumerate(zip(archivos_local, archivos_muse)):\n",
    "    print(muse_file, \"--------------------------------------------\")\n",
    "    #Cargar datos\n",
    "    os.chdir(ruta_datos)\n",
    "    single_local_data = prd.leer_datos(local_file)\n",
    "    os.chdir(\"../Muse\")\n",
    "    single_muse_data = prd.leer_datos(muse_file)\n",
    "    os.chdir(\"..\")\n",
    "\n",
    "    # Preprocesamiento de datos\n",
    "    ventanas, y_ventanas = preprocesamiento(single_muse_data)\n",
    "\n",
    "    # Extracción de características - tsfresh - todo: psd? , dudas Fourier en relación al rango de los datos 0-1682\n",
    "    features = extract_features(ventanas, column_id=\"id\", column_sort=\"TimeStamp\", column_kind=None, column_value=None)\n",
    "\n",
    "    # División de datos train/test\n",
    "    X_train, X_test, y_train, y_test = train_test_split(features, y_ventanas, test_size=0.2, random_state=random_seed, shuffle=shuffle_data)\n",
    "\n",
    "    # Entrenamiento y evaluación de los modelos - todo: revisar parámetros de los modelos, leer y escribir en la memoria sobre dichos modelos\n",
    "    metrics = rf(X_train, X_test, y_train, y_test)\n",
    "    all_metrics[idx,0] = metrics\n",
    "    # all_metrics[idx,0,:] = metrics\n",
    "    metrics = xgb(X_train, X_test, y_train, y_test)\n",
    "    all_metrics[idx,1] = metrics\n",
    "    metrics = svc(X_train, X_test, y_train, y_test)\n",
    "    all_metrics[idx,2] = metrics\n",
    "\n",
    "    #Estadisticas de datos\n",
    "    n_respuestas_inicial = single_local_data.count()[2]\n",
    "    balance_p = np.unique(single_local_data['Tecla elegida'], return_counts=True)[1][0] / n_respuestas\n",
    "    n_respuestas_final = y_ventanas.count()\n",
    "    balance_p_train = np.unique(y_train, return_counts=True)[1][0] / n_respuestas\n",
    "    balance_p_test = np.unique(y_test, return_counts=True)[1][0] / n_respuestas\n",
    "\n",
    "    # balance_datos_fila = [local_file, muse_file, n_respuestas, balance_p]\n",
    "    # balance_datos.append(pd.Series(balance_datos_fila, index=balance_datos.columns), ignore_index=True)\n",
    "\n",
    "    #Estadisticas de métricas\n",
    "    # balance_datos.append(pd.Series(balance_datos_fila, index=balance_datos.columns), ignore_index=True)\n",
    "\n"
   ]
  },
  {
   "cell_type": "code",
   "execution_count": null,
   "id": "fbf74e6a-09be-4229-b9f5-596227ff3d5b",
   "metadata": {
    "id": "fbf74e6a-09be-4229-b9f5-596227ff3d5b"
   },
   "outputs": [],
   "source": [
    "print(len(archivos_local))\n",
    "print(len(archivos_muse))\n"
   ]
  },
  {
   "cell_type": "code",
   "execution_count": null,
   "id": "43ab00f5-4406-45e7-8a4e-a3e44dc31c29",
   "metadata": {
    "id": "43ab00f5-4406-45e7-8a4e-a3e44dc31c29"
   },
   "outputs": [],
   "source": []
  }
 ],
 "metadata": {
  "colab": {
   "provenance": []
  },
  "kernelspec": {
   "display_name": "Python 3 (ipykernel)",
   "language": "python",
   "name": "python3"
  },
  "language_info": {
   "codemirror_mode": {
    "name": "ipython",
    "version": 3
   },
   "file_extension": ".py",
   "mimetype": "text/x-python",
   "name": "python",
   "nbconvert_exporter": "python",
   "pygments_lexer": "ipython3",
   "version": "3.9.1"
  }
 },
 "nbformat": 4,
 "nbformat_minor": 5
}
